{
 "metadata": {
  "language_info": {
   "codemirror_mode": {
    "name": "ipython",
    "version": 3
   },
   "file_extension": ".py",
   "mimetype": "text/x-python",
   "name": "python",
   "nbconvert_exporter": "python",
   "pygments_lexer": "ipython3",
   "version": "3.9.0-final"
  },
  "orig_nbformat": 2,
  "kernelspec": {
   "name": "python3",
   "display_name": "Python 3.9.0 64-bit",
   "metadata": {
    "interpreter": {
     "hash": "aee8b7b246df8f9039afb4144a1f6fd8d2ca17a180786b69acc140d282b71a49"
    }
   }
  }
 },
 "nbformat": 4,
 "nbformat_minor": 2,
 "cells": [
  {
   "cell_type": "code",
   "execution_count": 1,
   "metadata": {},
   "outputs": [],
   "source": [
    "# Functions\n",
    "\n",
    "def is_even(i):\n",
    "    \"\"\" \n",
    "    Input: i, a positive int\n",
    "    Returns True if i is even, otherwise False\n",
    "    \"\"\"\n",
    "\n",
    "    print(\"hi\")\n",
    "\n",
    "    return i % 2 == 0\n",
    "    \n"
   ]
  },
  {
   "cell_type": "code",
   "execution_count": 1,
   "metadata": {},
   "outputs": [
    {
     "output_type": "execute_result",
     "data": {
      "text/plain": [
       "39204"
      ]
     },
     "metadata": {},
     "execution_count": 1
    }
   ],
   "source": [
    "# Write a Python function, square, that takes in one number and returns the square of that number.\n",
    "\n",
    "# This function takes in one number and returns one number.\n",
    "\n",
    "def square(x):\n",
    "    \"\"\" This function takes a float or int input: x,\n",
    "    and prints out the square of that input \n",
    "    \"\"\"\n",
    "    return x ** 2\n",
    "\n",
    "\n",
    "square(198)\n"
   ]
  },
  {
   "cell_type": "code",
   "execution_count": null,
   "metadata": {},
   "outputs": [],
   "source": [
    "# Write a Python function, evalQuadratic(a, b, c, x), that returns the value of the quadratic  𝑎⋅𝑥2+𝑏⋅𝑥+𝑐 .\n",
    "\n",
    "# This function takes in four numbers and returns a single number.\n",
    "\n",
    "def evalQuadratic(a, b, c, x):\n",
    "    \"\"\"\n",
    "    This function returns the value of the quadratic: 𝑎⋅𝑥2+𝑏⋅𝑥+𝑐 \n",
    "    \"\"\"\n",
    "\n",
    "    quad = (a * (x ** 2)) + (b * x) + c\n",
    "\n",
    "    return quad"
   ]
  },
  {
   "cell_type": "code",
   "execution_count": 6,
   "metadata": {},
   "outputs": [
    {
     "output_type": "stream",
     "name": "stdout",
     "text": [
      "Lomo, Marvin\n"
     ]
    }
   ],
   "source": [
    "# Name print function\n",
    "\n",
    "def printName(firstName, lastName, reverse = False):\n",
    "    \"\"\"  This function takes in two strings, \"firstName\" and \"lastName\" and prints out the order of names with a default of False\n",
    "    \"\"\"\n",
    "    if reverse:\n",
    "        print(lastName + \", \" + firstName)\n",
    "\n",
    "    else:\n",
    "        print(firstName + \", \" + lastName)\n",
    "\n",
    "printName(firstName=\"Marvin\", lastName=\"Lomo\", \n",
    "reverse=True)"
   ]
  },
  {
   "cell_type": "code",
   "execution_count": 15,
   "metadata": {},
   "outputs": [
    {
     "output_type": "execute_result",
     "data": {
      "text/plain": [
       "0"
      ]
     },
     "metadata": {},
     "execution_count": 15
    }
   ],
   "source": [
    "# String class and Methods\n",
    "\n",
    "str1 = 'exterminate!' \n",
    "str2 = 'number one - the larch'\n",
    "\n",
    "str1.upper\n",
    "str1.upper()\n",
    "str1\n",
    "str1.isalnum()\n",
    "str1.index(\"e\")"
   ]
  },
  {
   "cell_type": "code",
   "execution_count": 22,
   "metadata": {},
   "outputs": [
    {
     "output_type": "error",
     "ename": "ValueError",
     "evalue": "substring not found",
     "traceback": [
      "\u001b[0;31m---------------------------------------------------------------------------\u001b[0m",
      "\u001b[0;31mValueError\u001b[0m                                Traceback (most recent call last)",
      "\u001b[0;32m<ipython-input-22-a4bbae6a8713>\u001b[0m in \u001b[0;36m<module>\u001b[0;34m\u001b[0m\n\u001b[1;32m      3\u001b[0m \u001b[0mstr2\u001b[0m\u001b[0;34m.\u001b[0m\u001b[0mindex\u001b[0m\u001b[0;34m(\u001b[0m\u001b[0;34m\"n\"\u001b[0m\u001b[0;34m)\u001b[0m\u001b[0;34m\u001b[0m\u001b[0;34m\u001b[0m\u001b[0m\n\u001b[1;32m      4\u001b[0m \u001b[0mstr2\u001b[0m\u001b[0;34m.\u001b[0m\u001b[0mfind\u001b[0m\u001b[0;34m(\u001b[0m\u001b[0;34m\"n\"\u001b[0m\u001b[0;34m)\u001b[0m\u001b[0;34m\u001b[0m\u001b[0;34m\u001b[0m\u001b[0m\n\u001b[0;32m----> 5\u001b[0;31m \u001b[0mstr2\u001b[0m\u001b[0;34m.\u001b[0m\u001b[0mindex\u001b[0m\u001b[0;34m(\u001b[0m\u001b[0;34m\"!\"\u001b[0m\u001b[0;34m)\u001b[0m\u001b[0;34m\u001b[0m\u001b[0;34m\u001b[0m\u001b[0m\n\u001b[0m\u001b[1;32m      6\u001b[0m \u001b[0mstr1\u001b[0m\u001b[0;34m.\u001b[0m\u001b[0mcount\u001b[0m\u001b[0;34m(\u001b[0m\u001b[0;34m'e'\u001b[0m\u001b[0;34m)\u001b[0m\u001b[0;34m\u001b[0m\u001b[0;34m\u001b[0m\u001b[0m\n",
      "\u001b[0;31mValueError\u001b[0m: substring not found"
     ]
    }
   ],
   "source": [
    "# String classes and Methods\n",
    "\n",
    "str2 = str2.capitalize()\n",
    "str2.swapcase()\n",
    "str2.index(\"n\")\n",
    "str2.find(\"n\")\n",
    "str2.index(\"!\")\n",
    "\n"
   ]
  },
  {
   "cell_type": "code",
   "execution_count": 20,
   "metadata": {},
   "outputs": [
    {
     "output_type": "execute_result",
     "data": {
      "text/plain": [
       "-1"
      ]
     },
     "metadata": {},
     "execution_count": 20
    }
   ],
   "source": [
    "# String classes and Methods\n",
    "\n",
    "str2.find(\"!\")"
   ]
  },
  {
   "cell_type": "code",
   "execution_count": 23,
   "metadata": {},
   "outputs": [
    {
     "output_type": "execute_result",
     "data": {
      "text/plain": [
       "3"
      ]
     },
     "metadata": {},
     "execution_count": 23
    }
   ],
   "source": [
    "# String classes and Methods\n",
    "\n",
    "str1.count('e')"
   ]
  },
  {
   "cell_type": "code",
   "execution_count": 24,
   "metadata": {},
   "outputs": [
    {
     "output_type": "execute_result",
     "data": {
      "text/plain": [
       "'*xt*rminat*!'"
      ]
     },
     "metadata": {},
     "execution_count": 24
    }
   ],
   "source": [
    "# String classes and Methods\n",
    "\n",
    "str1 = str1.replace('e', '*')\n",
    "str1"
   ]
  },
  {
   "cell_type": "code",
   "execution_count": 25,
   "metadata": {},
   "outputs": [
    {
     "output_type": "execute_result",
     "data": {
      "text/plain": [
       "'Number seven - the larch'"
      ]
     },
     "metadata": {},
     "execution_count": 25
    }
   ],
   "source": [
    "# String classes and Methods\n",
    "\n",
    "str2.replace('one', 'seven')"
   ]
  },
  {
   "cell_type": "code",
   "execution_count": null,
   "metadata": {},
   "outputs": [],
   "source": [
    "# Write a Python function, fourthPower, that takes in one number and returns that value raised to the fourth power.\n",
    "\n",
    "# You should use the square procedure that you defined in an earlier exercise (you don't need to redefine square in this box; when you call square, the grader will use our definition).\n",
    "\n",
    "# This function takes in one number and returns one number.\n",
    "\n",
    "def fourthPower(x):\n",
    "    \"\"\"\n",
    "    This fuction takes in an x: into or float and returns xto the fourth power\n",
    "    \"\"\"\n",
    "\n",
    "    return (square(x) * square(x))"
   ]
  },
  {
   "cell_type": "code",
   "execution_count": 26,
   "metadata": {},
   "outputs": [
    {
     "output_type": "execute_result",
     "data": {
      "text/plain": [
       "True"
      ]
     },
     "metadata": {},
     "execution_count": 26
    }
   ],
   "source": [
    "# Write a Python function, odd, that takes in one number and returns True when the number is odd and False otherwise.\n",
    "\n",
    "# You should use the % (mod) operator, not if.\n",
    "\n",
    "# This function takes in one number and returns a boolean.\n",
    "\n",
    "def odd(x):\n",
    "    \"\"\"\n",
    "    This function takes an int or float x and returns True if odd or False if otherwise\n",
    "    \"\"\"\n",
    "    return x % 2 != 0\n",
    "\n",
    "odd(3)"
   ]
  },
  {
   "cell_type": "code",
   "execution_count": null,
   "metadata": {},
   "outputs": [],
   "source": [
    "# Recursive Function\n",
    "\n",
    "def fact(n):\n",
    "    if n == 1:\n",
    "        return 1\n",
    "    else:\n",
    "        return n * fact(n-1)"
   ]
  },
  {
   "cell_type": "code",
   "execution_count": null,
   "metadata": {},
   "outputs": [],
   "source": [
    "# Iteration vs Recursion\n",
    "\n",
    "# Iteration\n",
    "\n",
    "def factorial_iter(n):\n",
    "    prod = 1\n",
    "\n",
    "    for i in range(1, n+1):\n",
    "        \n",
    "        prod *= i\n",
    "\n",
    "    return prod\n",
    "\n",
    "\n",
    "\n",
    "# Recursion\n",
    "\n",
    "def factorial(n):\n",
    "    if n == 1:\n",
    "        return 1\n",
    "    else:\n",
    "        return n * factorial(n-1)\n",
    "        \n"
   ]
  },
  {
   "cell_type": "code",
   "execution_count": 4,
   "metadata": {},
   "outputs": [
    {
     "output_type": "execute_result",
     "data": {
      "text/plain": [
       "102334155"
      ]
     },
     "metadata": {},
     "execution_count": 4
    }
   ],
   "source": [
    "# Fibonacci Sequence with recursive function\n",
    "\n",
    "def fibonacci(n):\n",
    "    \"\"\"\n",
    "    This function estimates the nth value in a fibonacci sequence\n",
    "    \"\"\"\n",
    "\n",
    "    # Base case\n",
    "    if n == 0 or n == 1:\n",
    "        return n\n",
    "    \n",
    "    # Recursive Phase\n",
    "    else:\n",
    "        return fibonacci(n-1) + fibonacci(n-2)\n",
    "\n",
    "fibonacci(40)"
   ]
  },
  {
   "cell_type": "code",
   "execution_count": 7,
   "metadata": {},
   "outputs": [
    {
     "output_type": "execute_result",
     "data": {
      "text/plain": [
       "27"
      ]
     },
     "metadata": {},
     "execution_count": 7
    }
   ],
   "source": [
    "# Write an iterative function iterPower(base, exp) that calculates the exponential  base ** exp  by simply using successive multiplication. For example, iterPower(base, exp) should compute  base ** exp  by multiplying base times itself exp times. Write such a function below.\n",
    "\n",
    "# This function should take in two values - base can be a float or an integer; exp will be an integer  ≥  0. It should return one numerical value. Your code must be iterative - use of the ** operator is not allowed.\n",
    "\n",
    "def iterPower(base, exp):\n",
    "    \"\"\"\n",
    "    This function takes an int or float as the base and an int exp.\n",
    "    It then determines bas ** exp in a recursive form\n",
    "    \"\"\"\n",
    "\n",
    "def iterPower(base, exp):\n",
    "    \"\"\"\n",
    "    base: int or float\n",
    "    exp: int >= 0\n",
    "    \"\"\"\n",
    "    product = 1\n",
    "\n",
    "    for i in range(exp):\n",
    "        product *= base\n",
    "    return product\n",
    "\n",
    "iterPower(3,3)\n",
    "\n",
    "\n",
    "\n",
    "    "
   ]
  },
  {
   "cell_type": "code",
   "execution_count": 11,
   "metadata": {},
   "outputs": [],
   "source": [
    "# In Problem 1, we computed an exponential by iteratively executing successive multiplications. We can use the same idea, but in a recursive function.\n",
    "\n",
    "# Write a function recurPower(base, exp) which computes  baseexp  by recursively calling itself to solve a smaller version of the same problem, and then multiplying the result by base to solve the initial problem.\n",
    "\n",
    "# This function should take in two values - base can be a float or an integer; exp will be an integer  ≥0 . It should return one numerical value. Your code must be recursive - use of the ** operator or looping constructs is not allowed.\n",
    "\n",
    "def recurPower(base, exp):\n",
    "    \"\"\"\n",
    "    base: int or float.\n",
    "    exp: int >= 0\n",
    " \n",
    "    returns: int or float, base^exp\n",
    "    \"\"\"\n",
    "\n",
    "    # Base case\n",
    "    if exp == 1:\n",
    "        return base\n",
    "\n",
    "    elif exp == 0:\n",
    "        return 1\n",
    "\n",
    "    # Recursive case\n",
    "\n",
    "    else:\n",
    "        return base * recurPower(base, exp-1)"
   ]
  },
  {
   "cell_type": "code",
   "execution_count": 15,
   "metadata": {},
   "outputs": [
    {
     "output_type": "stream",
     "name": "stdout",
     "text": [
      "move from T1 to T3\nmove from T1 to T2\nmove from T3 to T2\nmove from T1 to T3\nmove from T2 to T1\nmove from T2 to T3\nmove from T1 to T3\nmove from T1 to T2\nmove from T3 to T2\nmove from T3 to T1\nmove from T2 to T1\nmove from T3 to T2\nmove from T1 to T3\nmove from T1 to T2\nmove from T3 to T2\nNone\n"
     ]
    }
   ],
   "source": [
    "# Towers of Hanoi\n",
    "\n",
    "def printMove(fr, to):\n",
    "    print(\"move from \" + str(fr) + \" to \" + str(to))\n",
    "\n",
    "def Towers(n, fr, to, spare):\n",
    "    if n == 1:\n",
    "        printMove(fr, to)\n",
    "    \n",
    "    else:\n",
    "        Towers(n-1, fr, spare, to)\n",
    "        Towers(1, fr, to, spare)\n",
    "        Towers(n-1, spare, to, fr)\n",
    "\n",
    "print(Towers(4, \"T1\", \"T2\", \"T3\"))"
   ]
  },
  {
   "cell_type": "code",
   "execution_count": 9,
   "metadata": {},
   "outputs": [
    {
     "output_type": "execute_result",
     "data": {
      "text/plain": [
       "2"
      ]
     },
     "metadata": {},
     "execution_count": 9
    }
   ],
   "source": [
    "# The greatest common divisor of two positive integers is the largest integer that divides each of them without remainder. For example,\n",
    "\n",
    "# gcd(2, 12) = 2\n",
    "\n",
    "# gcd(6, 12) = 6\n",
    "\n",
    "# gcd(9, 12) = 3\n",
    "\n",
    "# gcd(17, 12) = 1\n",
    "\n",
    "# Write an iterative function, gcdIter(a, b), that implements this idea. One easy way to do this is to begin with a test value equal to the smaller of the two input arguments, and iteratively reduce this test value by 1 until you either reach a case where the test divides both a and b without remainder, or you reach 1.\n",
    "\n",
    "\n",
    "def gcdIter(a,b):\n",
    "    \"\"\"\n",
    "    a, b: positive integers\n",
    "    returns: a positive integer, the greatest common divisor of a & b.\n",
    "    \"\"\"\n",
    "    gcd = 0\n",
    "\n",
    "    if a < b:\n",
    "        gcd = b\n",
    "    \n",
    "    else:\n",
    "        gcd = a\n",
    "\n",
    "    while ((a % gcd == 0) and( b % gcd == 0)) != True:\n",
    "        gcd -= 1\n",
    "    \n",
    "    return gcd\n",
    "\n",
    "\n",
    "gcdIter(10,12)\n",
    "\n",
    "\n",
    "\n",
    "\n"
   ]
  },
  {
   "cell_type": "code",
   "execution_count": null,
   "metadata": {},
   "outputs": [],
   "source": [
    "# The greatest common divisor of two positive integers is the largest integer that divides each of them without remainder. For example,\n",
    "\n",
    "# gcd(2, 12) = 2\n",
    "\n",
    "# gcd(6, 12) = 6\n",
    "\n",
    "# gcd(9, 12) = 3\n",
    "\n",
    "# gcd(17, 12) = 1\n",
    "\n",
    "# A clever mathematical trick (due to Euclid) makes it easy to find greatest common divisors. Suppose that a and b are two positive integers:\n",
    "\n",
    "# If b = 0, then the answer is a\n",
    "\n",
    "# Otherwise, gcd(a, b) is the same as gcd(b, a % b)\n",
    "\n",
    "\n",
    "def gcdRecur(a, b):\n",
    "    \"\"\"\n",
    "    a, b: positive integers\n",
    "\n",
    "    returns: a positive omteger, the greated common divisor\n",
    "\n",
    "    \"\"\"\n",
    "    if b == 0:\n",
    "        return a\n",
    "\n",
    "    else:\n",
    "        return gcdRecur(b, a % b)\n"
   ]
  },
  {
   "cell_type": "code",
   "execution_count": 11,
   "metadata": {},
   "outputs": [
    {
     "output_type": "execute_result",
     "data": {
      "text/plain": [
       "True"
      ]
     },
     "metadata": {},
     "execution_count": 11
    }
   ],
   "source": [
    "# Palindrome detection\n",
    "\n",
    "\n",
    "def isPalindrome(s):\n",
    "\n",
    "    def toChars(s):\n",
    "        s = s.lower()\n",
    "        ans = \"\"\n",
    "\n",
    "        for c in s:\n",
    "            if c in \"abcdefghijklmnopqrstuvwxyz\":\n",
    "                ans +=c\n",
    "        return ans\n",
    "\n",
    "    def isPal(s):\n",
    "        if len(s) <= 1:\n",
    "            return True\n",
    "\n",
    "        else:\n",
    "            return s[0] == s[-1] and isPal(s[1:-1])\n",
    "    \n",
    "    return isPal(toChars(s))\n",
    "\n",
    "s = \"Able, elba\"\n",
    "\n",
    "isPalindrome(s)"
   ]
  },
  {
   "cell_type": "code",
   "execution_count": 136,
   "metadata": {},
   "outputs": [
    {
     "output_type": "execute_result",
     "data": {
      "text/plain": [
       "True"
      ]
     },
     "metadata": {},
     "execution_count": 136
    }
   ],
   "source": [
    "# We can use the idea of bisection search to determine if a character is in a string, so long as the string is sorted in alphabetical order.\n",
    "\n",
    "# First, test the middle character of a string against the character you're looking for (the \"test character\"). If they are the same, we are done - we've found the character we're looking for!\n",
    "\n",
    "# If they're not the same, check if the test character is \"smaller\" than the middle character. If so, we need only consider the lower half of the string; otherwise, we only consider the upper half of the string. (Note that you can compare characters using Python's < function.)\n",
    "\n",
    "# Implement the function isIn(char, aStr) which implements the above idea recursively to test if char is in aStr. char will be a single character and aStr will be a string that is in alphabetical order. The function should return a boolean value.\n",
    "\n",
    "# As you design the function, think very carefully about what the base cases should be\n",
    "\n",
    "\n",
    "def isIn(char, aStr):\n",
    "\n",
    "    \"\"\"\n",
    "    char: a single string value\n",
    "    aStr: a string of values maybe more than one\n",
    "\n",
    "    return: A Boolean if aStr contains char\n",
    "    \"\"\"\n",
    "\n",
    "    aStr = aStr.lower()\n",
    "    sort = sorted(aStr)\n",
    "    aStr = \"\".join(sort)\n",
    "\n",
    "    middle_str = aStr[((len(aStr)-1) // 2) : ((len(aStr)+2) // 2)]\n",
    "\n",
    "    if middle_str == char:\n",
    "        return middle_str == char\n",
    "\n",
    "    elif len(aStr) <= 1:\n",
    "        return middle_str == char\n",
    "\n",
    "    elif len(aStr) == 2:\n",
    "        return middle_str[0] == char or middle_str[1] == char\n",
    "\n",
    "    else:\n",
    "        if char > middle_str and len(middle_str) == 1:\n",
    "            return isIn(char, aStr[aStr.index(middle_str) + 1 : ])\n",
    "        \n",
    "        elif char < middle_str and len(middle_str) == 1:\n",
    "            return isIn(char, aStr[ : aStr.index(middle_str)])\n",
    "        \n",
    "        elif char > middle_str and len(middle_str) == 2:\n",
    "            return isIn(char, aStr[aStr.index(middle_str) + 2 : ])\n",
    "\n",
    "        elif char < middle_str and len(middle_str) == 2:\n",
    "            return isIn(char, aStr[ : aStr.index(middle_str)])\n",
    "\n",
    "    return isIn(char, aStr)\n",
    "\n",
    "\n",
    "isIn('h', 'hj')\n"
   ]
  },
  {
   "cell_type": "code",
   "execution_count": 134,
   "metadata": {},
   "outputs": [
    {
     "output_type": "execute_result",
     "data": {
      "text/plain": [
       "'cprtu'"
      ]
     },
     "metadata": {},
     "execution_count": 134
    }
   ],
   "source": [
    "aStr = \"cprtu\"\n",
    "\n",
    "aStr = aStr.lower()\n",
    "sort = sorted(aStr)\n",
    "aStr = \"\".join(sort)\n",
    "\n",
    "aStr\n",
    "\n",
    "\n"
   ]
  },
  {
   "cell_type": "code",
   "execution_count": 121,
   "metadata": {},
   "outputs": [
    {
     "output_type": "execute_result",
     "data": {
      "text/plain": [
       "'eqrtwy'"
      ]
     },
     "metadata": {},
     "execution_count": 121
    }
   ],
   "source": [
    "txt = aOr(\"qwerty\")\n",
    "\n",
    "txt\n",
    "\n"
   ]
  },
  {
   "cell_type": "code",
   "execution_count": 122,
   "metadata": {},
   "outputs": [
    {
     "output_type": "execute_result",
     "data": {
      "text/plain": [
       "'eq'"
      ]
     },
     "metadata": {},
     "execution_count": 122
    }
   ],
   "source": [
    "txt = \"eq\"\n",
    "\n",
    "txt[(len(txt)-1)//2:(len(txt)+2)//2]\n",
    "\n"
   ]
  },
  {
   "cell_type": "code",
   "execution_count": 43,
   "metadata": {},
   "outputs": [
    {
     "output_type": "execute_result",
     "data": {
      "text/plain": [
       "0"
      ]
     },
     "metadata": {},
     "execution_count": 43
    }
   ],
   "source": [
    "txt = \"a\"\n",
    "\n",
    "txt.index(\"a\")"
   ]
  },
  {
   "cell_type": "code",
   "execution_count": null,
   "metadata": {},
   "outputs": [],
   "source": [
    "elif len(middle_str) == 1:\n",
    "        if middle_str == char:\n",
    "            return True\n",
    "\n",
    "    elif len(middle_str) == 2:\n",
    "        if middle_str[0] == char:\n",
    "            return True\n",
    "\n",
    "        elif middle_str[1] == char:\n",
    "            return True\n",
    "\n",
    "    "
   ]
  }
 ]
}