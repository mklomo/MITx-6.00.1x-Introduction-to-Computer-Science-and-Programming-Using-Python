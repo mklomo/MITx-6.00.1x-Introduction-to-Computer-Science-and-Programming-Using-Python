{
 "metadata": {
  "language_info": {
   "codemirror_mode": {
    "name": "ipython",
    "version": 3
   },
   "file_extension": ".py",
   "mimetype": "text/x-python",
   "name": "python",
   "nbconvert_exporter": "python",
   "pygments_lexer": "ipython3",
   "version": "3.9.0-final"
  },
  "orig_nbformat": 2,
  "kernelspec": {
   "name": "python3",
   "display_name": "Python 3.9.0 64-bit",
   "metadata": {
    "interpreter": {
     "hash": "7812ea015bdcee6f23a998adcdd2ef97c151c0c241b7b7070987d9313e41299d"
    }
   }
  }
 },
 "nbformat": 4,
 "nbformat_minor": 2,
 "cells": [
  {
   "cell_type": "code",
   "execution_count": 11,
   "metadata": {},
   "outputs": [
    {
     "output_type": "stream",
     "name": "stdout",
     "text": [
      "Remaining Balance: 361.61\n"
     ]
    }
   ],
   "source": [
    "# Paying off Debt in a Year\n",
    "\n",
    "\n",
    "balance = 484\n",
    "\n",
    "annualInterestRate = 0.2\n",
    "\n",
    "monthlyPaymentRate = 0.04 \n",
    "\n",
    "\n",
    "for month in range(12): \n",
    "\n",
    "    monthly_Payment = monthlyPaymentRate * balance \n",
    "\n",
    "    unpaid_Balance = balance - monthly_Payment \n",
    "\n",
    "    monthly_accrued_Interest = (annualInterestRate/12) * unpaid_Balance\n",
    "\n",
    "    balance = monthly_accrued_Interest + unpaid_Balance\n",
    "\n",
    "print(\"Remaining Balance:\", round(balance, 2))\n",
    "\n",
    "    "
   ]
  },
  {
   "cell_type": "code",
   "execution_count": 4,
   "metadata": {},
   "outputs": [
    {
     "output_type": "stream",
     "name": "stdout",
     "text": [
      "Lowest Payment: 360\n"
     ]
    }
   ],
   "source": [
    "# Determining the Minimum Fixed Amount\n",
    "\n",
    "balance = 3926\n",
    "\n",
    "annualInterestRate = 0.2 \n",
    "\n",
    "starting_balance = balance\n",
    "\n",
    "monthlyFixedPayment = 10\n",
    "\n",
    "while balance > 0:\n",
    "\n",
    "    for month in range(12):\n",
    "\n",
    "        unpaid_Balance = balance - monthlyFixedPayment \n",
    "\n",
    "        monthly_accrued_Interest = (annualInterestRate/12) * unpaid_Balance\n",
    "\n",
    "        balance = monthly_accrued_Interest + unpaid_Balance\n",
    "\n",
    "    if balance > 0:\n",
    "        monthlyFixedPayment += 10\n",
    "        balance = starting_balance\n",
    "\n",
    "\n",
    "print(\"Lowest Payment:\", monthlyFixedPayment)\n",
    "\n",
    "\n",
    "\n"
   ]
  },
  {
   "cell_type": "code",
   "execution_count": 14,
   "metadata": {},
   "outputs": [
    {
     "output_type": "stream",
     "name": "stdout",
     "text": [
      "Lowest Payment: 90325.03\n"
     ]
    }
   ],
   "source": [
    "# Determining the Minimum Fixed Amount via Bisection Search\n",
    "\n",
    "balance = 999999\n",
    "\n",
    "annualInterestRate = 0.18 \n",
    "\n",
    "starting_balance = balance\n",
    "\n",
    "\n",
    "monthlyInterestRate = (annualInterestRate) / 12\n",
    "\n",
    "\n",
    "monthlyPaymentLowerBound = balance / 12\n",
    "\n",
    "\n",
    "monthlyPaymentUpperBound = (balance * ((1 + monthlyInterestRate) ** 12)) / 12\n",
    "\n",
    "\n",
    "epsillon = 0.01\n",
    "\n",
    "\n",
    "monthlyFixedPayment = (monthlyPaymentLowerBound + monthlyPaymentUpperBound) / 2\n",
    "\n",
    "\n",
    "while not (-epsillon <= balance <= epsillon):\n",
    "\n",
    "    for month in range(12):\n",
    "\n",
    "        unpaid_Balance = balance - monthlyFixedPayment \n",
    "\n",
    "        monthly_accrued_Interest = (annualInterestRate/12) * unpaid_Balance\n",
    "\n",
    "        balance = monthly_accrued_Interest + unpaid_Balance\n",
    "\n",
    "    if (-epsillon <= balance <= epsillon):\n",
    "        print(\"Lowest Payment:\", round(monthlyFixedPayment, 2))\n",
    "\n",
    "    else:\n",
    "        if balance < 0.01:\n",
    "\n",
    "            balance = starting_balance\n",
    "\n",
    "            monthlyPaymentUpperBound = monthlyFixedPayment\n",
    "\n",
    "        else:\n",
    "            balance = starting_balance\n",
    "\n",
    "            monthlyPaymentLowerBound = monthlyFixedPayment\n",
    "\n",
    "        monthlyFixedPayment = (monthlyPaymentLowerBound + monthlyPaymentUpperBound) / 2\n",
    "\n",
    "\n",
    "\n"
   ]
  },
  {
   "cell_type": "code",
   "execution_count": null,
   "metadata": {},
   "outputs": [],
   "source": []
  }
 ]
}