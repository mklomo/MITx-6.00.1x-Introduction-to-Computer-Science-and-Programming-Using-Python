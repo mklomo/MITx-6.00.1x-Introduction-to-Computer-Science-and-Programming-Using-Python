{
 "metadata": {
  "language_info": {
   "codemirror_mode": {
    "name": "ipython",
    "version": 3
   },
   "file_extension": ".py",
   "mimetype": "text/x-python",
   "name": "python",
   "nbconvert_exporter": "python",
   "pygments_lexer": "ipython3",
   "version": "3.9.0-final"
  },
  "orig_nbformat": 2,
  "kernelspec": {
   "name": "python3",
   "display_name": "Python 3.9.0 64-bit",
   "metadata": {
    "interpreter": {
     "hash": "7812ea015bdcee6f23a998adcdd2ef97c151c0c241b7b7070987d9313e41299d"
    }
   }
  }
 },
 "nbformat": 4,
 "nbformat_minor": 2,
 "cells": [
  {
   "cell_type": "code",
   "execution_count": null,
   "metadata": {},
   "outputs": [],
   "source": [
    "# Reviewing Loops\n",
    "\n",
    "ans = 0\n",
    "\n",
    "neg_flag = False\n",
    "\n",
    "x = int(input(\"Enter an integer: \"))\n",
    "\n",
    "if x < 0:\n",
    "    neg_flag = True\n",
    "\n",
    "\n",
    "# Guess and Check\n",
    "\n",
    "while ans ** 2 < x:\n",
    "    ans += 1\n",
    "\n",
    "if ans ** 2 == x:\n",
    "    print(\"Square root of \", x, \"is\", ans)\n",
    "\n",
    "else:\n",
    "    print(x, \"is not a perfect square\")\n",
    "    if neg_flag:\n",
    "        print(\"Just checking... did you mean\", -x, \"?\")\n",
    "    "
   ]
  },
  {
   "cell_type": "code",
   "execution_count": 1,
   "metadata": {},
   "outputs": [
    {
     "output_type": "stream",
     "name": "stdout",
     "text": [
      "The index 3 is a vowel\nThe index 7 is a vowel\n"
     ]
    }
   ],
   "source": [
    "# Strings and Loops\n",
    "\n",
    "s = \"pqwertyasdfjkl\"\n",
    "\n",
    "vowels = [\"a\", \"e\", \"i\", \"o\", \"u\"]\n",
    "\n",
    "for index in range(len(s)):\n",
    "    if s[index] in vowels:\n",
    "        print(\"The index\", index, \"is a vowel\")\n"
   ]
  },
  {
   "cell_type": "code",
   "execution_count": 4,
   "metadata": {},
   "outputs": [
    {
     "output_type": "stream",
     "name": "stdout",
     "text": [
      "The character e is a vowel\nThe character a is a vowel\n"
     ]
    }
   ],
   "source": [
    "# Strings and Loops\n",
    "\n",
    "s = \"pqwertyasdfjkl\"\n",
    "\n",
    "\n",
    "for char in s:\n",
    "    if char in vowels:\n",
    "        print(\"The character\", char, \"is a vowel\")\n",
    "\n",
    "# This is much cleaner"
   ]
  },
  {
   "cell_type": "code",
   "execution_count": 5,
   "metadata": {},
   "outputs": [
    {
     "output_type": "stream",
     "name": "stdout",
     "text": [
      "Iteration 0; count is: 1\nIteration 1; count is: 12\nIteration 2; count is: 1\nIteration 3; count is: 12\nIteration 4; count is: 1\n"
     ]
    }
   ],
   "source": [
    "iteration = 0\n",
    "while iteration < 5:\n",
    "    count = 0\n",
    "    for letter in \"hello, world\":\n",
    "        count += 1\n",
    "        if iteration % 2 == 0:\n",
    "            break\n",
    "    print(\"Iteration \" + str(iteration) + \"; count is: \" + str(count))\n",
    "    iteration += 1"
   ]
  },
  {
   "cell_type": "code",
   "execution_count": 6,
   "metadata": {},
   "outputs": [
    {
     "output_type": "stream",
     "name": "stdout",
     "text": [
      "num_guesses = 299963\n2.9996300000111837 is close to the cube root of 27\n"
     ]
    }
   ],
   "source": [
    "# Approximate Solution\n",
    "\n",
    "cube = 27\n",
    "\n",
    "epsilon = 0.01\n",
    "\n",
    "guess = 0.0\n",
    "\n",
    "increment = 0.00001\n",
    "\n",
    "num_guesses = 0\n",
    "\n",
    "while abs(guess ** 3 - cube) >= epsilon:\n",
    "    guess += increment\n",
    "    num_guesses += 1\n",
    "\n",
    "print(\"num_guesses =\", num_guesses)\n",
    "\n",
    "if abs(guess ** 3 - cube) >= epsilon:\n",
    "    print(\"Failed on cube root of\", cube)\n",
    "\n",
    "else:\n",
    "    print(guess, \"is close to the cube root of\", cube)"
   ]
  },
  {
   "cell_type": "code",
   "execution_count": 7,
   "metadata": {},
   "outputs": [
    {
     "output_type": "stream",
     "name": "stdout",
     "text": [
      "succeeded: 4.999999999999998\n"
     ]
    }
   ],
   "source": [
    "x = 25\n",
    "epsilon = 0.01\n",
    "step = 0.1\n",
    "guess = 0.0\n",
    "\n",
    "while abs(guess**2-x) >= epsilon:\n",
    "    if guess <= x:\n",
    "        guess += step\n",
    "    else:\n",
    "        break\n",
    "\n",
    "if abs(guess**2 - x) >= epsilon:\n",
    "    print('failed')\n",
    "else:\n",
    "    print('succeeded: ' + str(guess))"
   ]
  },
  {
   "cell_type": "code",
   "execution_count": 9,
   "metadata": {},
   "outputs": [
    {
     "output_type": "stream",
     "name": "stdout",
     "text": [
      "low = 1.0 high = 25 ans = 13.0\nlow = 1.0 high = 13.0 ans = 7.0\nlow = 1.0 high = 7.0 ans = 4.0\nlow = 4.0 high = 7.0 ans = 5.5\nlow = 4.0 high = 5.5 ans = 4.75\nlow = 4.75 high = 5.5 ans = 5.125\nlow = 4.75 high = 5.125 ans = 4.9375\nlow = 4.9375 high = 5.125 ans = 5.03125\nlow = 4.9375 high = 5.03125 ans = 4.984375\nlow = 4.984375 high = 5.03125 ans = 5.0078125\nlow = 4.984375 high = 5.0078125 ans = 4.99609375\nlow = 4.99609375 high = 5.0078125 ans = 5.001953125\nnum_guesses = 12\n4.9990234375 is close to square root of 25\n"
     ]
    }
   ],
   "source": [
    "# Bisection Search\n",
    "\n",
    "x = 25\n",
    "\n",
    "epsilon = 0.01\n",
    "\n",
    "num_guesses = 0\n",
    "\n",
    "low = 1.0\n",
    "\n",
    "high = x\n",
    "\n",
    "ans = (high + low)/2.0\n",
    "\n",
    "while abs(ans ** 2 - x) >= epsilon:\n",
    "    print(\"low = \" + str(low) + \" high = \" + str(high)+ \" ans = \" + str(ans))\n",
    "    num_guesses += 1\n",
    "    if ans ** 2 < x:\n",
    "        low = ans\n",
    "    \n",
    "    else:\n",
    "        high = ans\n",
    "\n",
    "    ans = (high + low)/2.0\n",
    "\n",
    "print(\"num_guesses = \" + str(num_guesses))\n",
    "\n",
    "print(str(ans) + \" is close to square root of \" + str(x))\n"
   ]
  },
  {
   "cell_type": "code",
   "execution_count": 3,
   "metadata": {},
   "outputs": [
    {
     "output_type": "stream",
     "name": "stdout",
     "text": [
      "Please think of a number between 0 (inclusive) and 100 (not inclusive\n",
      "\n",
      "Is your secret number 50?\n",
      "\n",
      "Is your secret number 25?\n",
      "\n",
      "Game over. Your secret number was: 25\n"
     ]
    }
   ],
   "source": [
    "# In this problem, you'll create a program that guesses a secret number!\n",
    "\n",
    "# The program works as follows: you (the user) thinks of an integer between 0 (inclusive) and 100 (not inclusive). The computer makes guesses, and you give it input - is its guess too high or too low? Using bisection search, the computer will guess the user's secret number!\n",
    "\n",
    "# Initializing\n",
    "\n",
    "print(\"Please think of a number between 0 (inclusive) and 100 (not inclusive\")\n",
    "\n",
    "low = 0\n",
    "\n",
    "high = 100\n",
    "\n",
    "ans = int((low + high) / 2)\n",
    "\n",
    "\n",
    "print(\"\\nIs your secret number \" + str(ans) + \"?\")\n",
    "\n",
    "\n",
    "y = [\"h\", \"l\", \"c\"]\n",
    "\n",
    "\n",
    "x = input(\"\\nEnter 'h' to indicate the guess is too high. Enter 'l' to indicate the guess is too low. Enter 'c' to indicate I guessed correctly. \")\n",
    "\n",
    "\n",
    "\n",
    "while x not in y:\n",
    "    print(\"\\nSorry, I did not understand your input.\")\n",
    "\n",
    "    x = input(\"\\nEnter 'h' to indicate the guess is too high. Enter 'l' to indicate the guess is too low. Enter 'c' to indicate I guessed correctly. \")\n",
    "\n",
    "\n",
    "while x != \"c\":\n",
    "\n",
    "    # Off to do a Bisection\n",
    "\n",
    "    if x == \"h\":\n",
    "        high = ans\n",
    "\n",
    "    else:\n",
    "        low = ans\n",
    "\n",
    "    ans = int((low + high) / 2)\n",
    "\n",
    "    print(\"\\nIs your secret number \" + str(ans) + \"?\")\n",
    "\n",
    "    x = input(\"\\nEnter 'h' to indicate the guess is too high. Enter 'l' to indicate the guess is too low. Enter 'c' to indicate I guessed correctly. \")\n",
    "\n",
    "    while x not in y:\n",
    "        print(\"\\nSorry, I did not understand your input.\")\n",
    "\n",
    "        print(\"\\nIs your secret number \" + str(ans) + \"?\")\n",
    "\n",
    "        x = input(\"\\nEnter 'h' to indicate the guess is too high. Enter 'l' to indicate the guess is too low. Enter 'c' to indicate I guessed correctly. \")\n",
    "\n",
    "# Final Phase\n",
    "\n",
    "print(\"\\nGame over. Your secret number was:\", ans)\n",
    "\n"
   ]
  },
  {
   "cell_type": "code",
   "execution_count": 5,
   "metadata": {},
   "outputs": [
    {
     "output_type": "stream",
     "name": "stdout",
     "text": [
      "num_guesses = 5\nSquare root of 64 is about 8.000001273385879\n"
     ]
    }
   ],
   "source": [
    "# Newton - Raphson Approximation\n",
    "\n",
    "epsilon = 0.01\n",
    "\n",
    "y = 64\n",
    "\n",
    "# Initial Guess\n",
    "guess = y / 2\n",
    "\n",
    "# Initializing the number of guesses\n",
    "num_guess = 0\n",
    "\n",
    "while abs((guess ** 2) - y) >= 0.01:\n",
    "    num_guess += 1\n",
    "\n",
    "    # Newton-Raphson Approximation\n",
    "\n",
    "    guess = guess - (((guess ** 2) - y)/(2*guess))\n",
    "\n",
    "print(\"num_guesses = \" + str(num_guess))\n",
    "\n",
    "print(\"Square root of \" + str(y) + \" is about \" + str(guess))\n"
   ]
  },
  {
   "cell_type": "code",
   "execution_count": 49,
   "metadata": {},
   "outputs": [],
   "source": [
    "def isWordGuessed(secretWord, lettersGuessed):\n",
    "    '''\n",
    "    secretWord: string, the word the user is guessing\n",
    "    lettersGuessed: list, what letters have been guessed so far\n",
    "    returns: boolean, True if all the letters of secretWord are in lettersGuessed;\n",
    "      False otherwise\n",
    "    '''\n",
    "    result = True\n",
    "    for char in secretWord:\n",
    "        if char not in lettersGuessed:\n",
    "            result = False\n",
    "            break\n",
    "            \n",
    "    if result == False:\n",
    "        return False\n",
    "\n",
    "    else:\n",
    "        return True\n"
   ]
  },
  {
   "cell_type": "code",
   "execution_count": 55,
   "metadata": {},
   "outputs": [],
   "source": [
    "def getGuessedWord(secretWord, lettersGuessed):\n",
    "    '''\n",
    "    secretWord: string, the word the user is guessing\n",
    "    lettersGuessed: list, what letters have been guessed so far\n",
    "    returns: string, comprised of letters and underscores that represents\n",
    "      what letters in secretWord have been guessed so far.\n",
    "    '''\n",
    "    word = \"\"\n",
    "    for char in secretWord:\n",
    "        if char in lettersGuessed:\n",
    "            word += char\n",
    "\n",
    "        else:\n",
    "            word += \" _ \"\n",
    "    \n",
    "    return word"
   ]
  },
  {
   "cell_type": "code",
   "execution_count": 56,
   "metadata": {},
   "outputs": [
    {
     "output_type": "stream",
     "name": "stdout",
     "text": [
      " _ pp _ e\n"
     ]
    }
   ],
   "source": [
    "secretWord = 'apple' \n",
    "lettersGuessed = ['e', 'i', 'k', 'p', 'r', 's']\n",
    "print(getGuessedWord(secretWord, lettersGuessed))\n"
   ]
  },
  {
   "cell_type": "code",
   "execution_count": 70,
   "metadata": {},
   "outputs": [],
   "source": [
    "def getAvailableLetters(lettersGuessed):\n",
    "    '''\n",
    "    lettersGuessed: list, what letters have been guessed so far\n",
    "    returns: string, comprised of letters that represents what letters have not\n",
    "      yet been guessed.\n",
    "    '''\n",
    "    import string\n",
    "\n",
    "    alpha_list = list(string.ascii_lowercase)\n",
    "\n",
    "\n",
    "    for char in lettersGuessed:\n",
    "        if char in alpha_list:\n",
    "            alpha_list.remove(char)\n",
    "\n",
    "\n",
    "\n",
    "    return \"\".join(alpha_list)"
   ]
  },
  {
   "cell_type": "code",
   "execution_count": 71,
   "metadata": {},
   "outputs": [
    {
     "output_type": "stream",
     "name": "stdout",
     "text": [
      "abcdfghjlmnoqtuvwxyz\n"
     ]
    }
   ],
   "source": [
    "lettersGuessed = ['e', 'i', 'k', 'p', 'r', 's']\n",
    "print(getAvailableLetters(lettersGuessed))\n"
   ]
  },
  {
   "cell_type": "code",
   "execution_count": 67,
   "metadata": {},
   "outputs": [
    {
     "output_type": "stream",
     "name": "stdout",
     "text": [
      "['a', 'b', 'c', 'd', 'f', 'g', 'h', 'i', 'j', 'k', 'l', 'm', 'n', 'o', 'p', 'q', 'r', 's', 't', 'u', 'v', 'w', 'x', 'y', 'z']\n"
     ]
    }
   ],
   "source": [
    "lettersGuessed = ['e', 'i', 'k', 'p', 'r', 's']\n",
    "print(getAvailableLetters(lettersGuessed))"
   ]
  },
  {
   "cell_type": "code",
   "execution_count": 21,
   "metadata": {},
   "outputs": [],
   "source": [
    "def jumpAndBackpedal(isMyNumber):\n",
    "    '''\n",
    "    isMyNumber: Procedure that hides a secret number. \n",
    "     It takes as a parameter one number and returns:\n",
    "     *  -1 if the number is less than the secret number\n",
    "     *  0 if the number is equal to the secret number\n",
    "     *  1 if the number is greater than the secret number\n",
    " \n",
    "    returns: integer, the secret number\n",
    "    ''' \n",
    "    guess = 1\n",
    "    sign = isMyNumber(guess)\n",
    "    if sign == 0:\n",
    "        return guess\n",
    "    if sign == -1 or sign == 1:\n",
    "        foundNumber = False\n",
    "    while foundNumber == False:\n",
    "        sign = isMyNumber(guess)\n",
    "        if sign == -1 or sign == 1:\n",
    "            foundNumber = False\n",
    "        if sign == -1:\n",
    "            guess *= 2\n",
    "        elif sign == 1:\n",
    "            guess -= 1\n",
    "        elif sign == 0:\n",
    "            break\n",
    "    return guess\n",
    "\n"
   ]
  },
  {
   "cell_type": "code",
   "execution_count": 22,
   "metadata": {},
   "outputs": [],
   "source": [
    "# Write a Python function that returns the sublist of strings in aList that contain fewer than 4 characters. For example, if aList = [\"apple\", \"cat\", \"dog\", \"banana\"], your function should return: [\"cat\", \"dog\"]\n",
    "\n",
    "# This function takes in a list of strings and returns a list of strings. Your function should not modify aList.\n",
    "\n",
    "\n",
    "def lessThan4(aList):\n",
    "    '''\n",
    "    aList: a list of strings\n",
    "    '''\n",
    "    temp_List = []\n",
    "    for i in aList:\n",
    "        if len(i) < 4:\n",
    "            temp_List.append(i)\n",
    "    return temp_List\n",
    "\n"
   ]
  },
  {
   "cell_type": "code",
   "execution_count": 44,
   "metadata": {},
   "outputs": [],
   "source": [
    "# Write a Python function that returns a list of keys in aDict that map to integer values that are unique (i.e. values appear exactly once in aDict). The list of keys you return should be sorted in increasing order. (If aDict does not contain any unique values, you should return an empty list.)\n",
    "\n",
    "# This function takes in a dictionary and returns a list.\n",
    "\n",
    "def uniqueValues(aDict):\n",
    "    '''\n",
    "    aDict: a dictionary\n",
    "    '''\n",
    "    # Creating an empty dictionary with key abd count \n",
    "    val_Count_Dict = {}\n",
    "    for i in aDict.values():\n",
    "        val_Count_Dict.setdefault(i,0)\n",
    "        val_Count_Dict[i] += 1\n",
    "        \n",
    "    return sorted([k for k,v in aDict.items() if val_Count_Dict[v] == 1])\n",
    "\n",
    "    \n",
    "\n"
   ]
  },
  {
   "cell_type": "code",
   "execution_count": 27,
   "metadata": {},
   "outputs": [
    {
     "output_type": "execute_result",
     "data": {
      "text/plain": [
       "[1, 2, 3]"
      ]
     },
     "metadata": {},
     "execution_count": 27
    }
   ],
   "source": [
    "sorted([3,2,1])"
   ]
  },
  {
   "cell_type": "code",
   "execution_count": 38,
   "metadata": {},
   "outputs": [],
   "source": [
    "a_Dict = {\"a\": 2, \"b\": 2, \"c\" : 3, \"d\" : 4, \"e\": 1}"
   ]
  },
  {
   "cell_type": "code",
   "execution_count": 45,
   "metadata": {},
   "outputs": [
    {
     "output_type": "execute_result",
     "data": {
      "text/plain": [
       "['c', 'd', 'e']"
      ]
     },
     "metadata": {},
     "execution_count": 45
    }
   ],
   "source": [
    "uniqueValues(a_Dict)"
   ]
  },
  {
   "cell_type": "code",
   "execution_count": null,
   "metadata": {},
   "outputs": [],
   "source": [
    "# Write a recursive procedure, called laceStringsRecur(s1, s2), which also laces together two strings. Your procedure should not use any explicit loop mechanism, such as a for or while loop. We have provided a template of the code; your job is to insert a single line of code in each of the indicated places.\n",
    "\n",
    "# For this problem, you must add exactly one line of code in each of the three places where we specify to write a line of code. If you add more lines, your code will not count as correct.\n",
    "\n",
    "def laceStringsRecur(s1, s2):\n",
    "    \"\"\"\n",
    "    s1 and s2 are strings.\n",
    "\n",
    "    Returns a new str with elements of s1 and s2 interlaced,\n",
    "    beginning with s1. If strings are not of same length, \n",
    "    then the extra elements should appear at the end.\n",
    "    \"\"\"\n",
    "    def helpLaceStrings(s1, s2, out):\n",
    "        if s1 == '':\n",
    "            s1[i]+s2[i]\n",
    "        if s2 == '':\n",
    "            s2[0]+s1[]\n",
    "        else:\n",
    "            #PLACE A LINE OF CODE HERE\n",
    "    return helpLaceStrings(s1, s2, '')"
   ]
  },
  {
   "cell_type": "code",
   "execution_count": 47,
   "metadata": {},
   "outputs": [
    {
     "output_type": "execute_result",
     "data": {
      "text/plain": [
       "True"
      ]
     },
     "metadata": {},
     "execution_count": 47
    }
   ],
   "source": [
    "s = ['a', 'b', 'a']\n",
    "\n",
    "\n",
    "def f(s):\n",
    "    return 'a' in s\n",
    "      \n",
    "f(s)"
   ]
  },
  {
   "cell_type": "code",
   "execution_count": 48,
   "metadata": {},
   "outputs": [
    {
     "output_type": "execute_result",
     "data": {
      "text/plain": [
       "['a', 'a']"
      ]
     },
     "metadata": {},
     "execution_count": 48
    }
   ],
   "source": [
    "s = ['a', 'b', 'a']\n",
    "\n",
    "[i for i in s if f(i) == True]"
   ]
  },
  {
   "cell_type": "code",
   "execution_count": 68,
   "metadata": {},
   "outputs": [],
   "source": [
    "def satisfiesF(L):\n",
    "    \"\"\"\n",
    "    Assumes L is a list of strings\n",
    "    Assume function f is already defined for you and it maps a string to a Boolean\n",
    "    Mutates L such that it contains all of the strings, s, originally in L such that f(s) returns True, and no other elements. Remaining elements in L should be in the same order.\n",
    "    Returns the length of L after mutation\n",
    "    \"\"\"\n",
    "    # Don't use just an equal sign to copy a list\n",
    "    temp_List = L[:]\n",
    "    for i in temp_List:\n",
    "        if f(i) != True:\n",
    "            L.remove(i)\n",
    "    return len(L)\n",
    "\n",
    "\n",
    "    "
   ]
  },
  {
   "cell_type": "code",
   "execution_count": 59,
   "metadata": {},
   "outputs": [
    {
     "output_type": "execute_result",
     "data": {
      "text/plain": [
       "['aaaa', 'aa']"
      ]
     },
     "metadata": {},
     "execution_count": 59
    }
   ],
   "source": [
    "b = ['aaaa', 'aba', 'aa']\n",
    "\n",
    "def f(s):\n",
    "    return 'aa' in s\n",
    "\n",
    "\n",
    "L = [i for i in L if f(i) == True]\n"
   ]
  },
  {
   "cell_type": "code",
   "execution_count": 69,
   "metadata": {},
   "outputs": [
    {
     "output_type": "stream",
     "name": "stdout",
     "text": [
      "5\n['a1', 'a2', 'a3', 'aaa4', 'aaaa5']\n"
     ]
    }
   ],
   "source": [
    "def f(s):\n",
    "    return 'a' in s\n",
    "      \n",
    "L = ['a1', 'b', 'a2', \"Q\", \"SFHH\", \"a3\", \"pokf\", \"aaa4\", \"aaaa5\"]\n",
    "print(satisfiesF(L))\n",
    "print(L)"
   ]
  },
  {
   "cell_type": "code",
   "execution_count": null,
   "metadata": {},
   "outputs": [],
   "source": []
  }
 ]
}