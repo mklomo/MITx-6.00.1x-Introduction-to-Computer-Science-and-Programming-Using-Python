{
 "metadata": {
  "language_info": {
   "codemirror_mode": {
    "name": "ipython",
    "version": 3
   },
   "file_extension": ".py",
   "mimetype": "text/x-python",
   "name": "python",
   "nbconvert_exporter": "python",
   "pygments_lexer": "ipython3",
   "version": "3.9.0-final"
  },
  "orig_nbformat": 2,
  "kernelspec": {
   "name": "python3",
   "display_name": "Python 3.9.0 64-bit",
   "metadata": {
    "interpreter": {
     "hash": "7812ea015bdcee6f23a998adcdd2ef97c151c0c241b7b7070987d9313e41299d"
    }
   }
  }
 },
 "nbformat": 4,
 "nbformat_minor": 2,
 "cells": [
  {
   "cell_type": "code",
   "execution_count": null,
   "metadata": {},
   "outputs": [],
   "source": [
    "# Reviewing Loops\n",
    "\n",
    "ans = 0\n",
    "\n",
    "neg_flag = False\n",
    "\n",
    "x = int(input(\"Enter an integer: \"))\n",
    "\n",
    "if x < 0:\n",
    "    neg_flag = True\n",
    "\n",
    "\n",
    "# Guess and Check\n",
    "\n",
    "while ans ** 2 < x:\n",
    "    ans += 1\n",
    "\n",
    "if ans ** 2 == x:\n",
    "    print(\"Square root of \", x, \"is\", ans)\n",
    "\n",
    "else:\n",
    "    print(x, \"is not a perfect square\")\n",
    "    if neg_flag:\n",
    "        print(\"Just checking... did you mean\", -x, \"?\")\n",
    "    "
   ]
  },
  {
   "cell_type": "code",
   "execution_count": 1,
   "metadata": {},
   "outputs": [
    {
     "output_type": "stream",
     "name": "stdout",
     "text": [
      "The index 3 is a vowel\nThe index 7 is a vowel\n"
     ]
    }
   ],
   "source": [
    "# Strings and Loops\n",
    "\n",
    "s = \"pqwertyasdfjkl\"\n",
    "\n",
    "vowels = [\"a\", \"e\", \"i\", \"o\", \"u\"]\n",
    "\n",
    "for index in range(len(s)):\n",
    "    if s[index] in vowels:\n",
    "        print(\"The index\", index, \"is a vowel\")\n"
   ]
  },
  {
   "cell_type": "code",
   "execution_count": 4,
   "metadata": {},
   "outputs": [
    {
     "output_type": "stream",
     "name": "stdout",
     "text": [
      "The character e is a vowel\nThe character a is a vowel\n"
     ]
    }
   ],
   "source": [
    "# Strings and Loops\n",
    "\n",
    "s = \"pqwertyasdfjkl\"\n",
    "\n",
    "\n",
    "for char in s:\n",
    "    if char in vowels:\n",
    "        print(\"The character\", char, \"is a vowel\")\n",
    "\n",
    "# This is much cleaner"
   ]
  },
  {
   "cell_type": "code",
   "execution_count": 5,
   "metadata": {},
   "outputs": [
    {
     "output_type": "stream",
     "name": "stdout",
     "text": [
      "Iteration 0; count is: 1\nIteration 1; count is: 12\nIteration 2; count is: 1\nIteration 3; count is: 12\nIteration 4; count is: 1\n"
     ]
    }
   ],
   "source": [
    "iteration = 0\n",
    "while iteration < 5:\n",
    "    count = 0\n",
    "    for letter in \"hello, world\":\n",
    "        count += 1\n",
    "        if iteration % 2 == 0:\n",
    "            break\n",
    "    print(\"Iteration \" + str(iteration) + \"; count is: \" + str(count))\n",
    "    iteration += 1"
   ]
  },
  {
   "cell_type": "code",
   "execution_count": 6,
   "metadata": {},
   "outputs": [
    {
     "output_type": "stream",
     "name": "stdout",
     "text": [
      "num_guesses = 299963\n2.9996300000111837 is close to the cube root of 27\n"
     ]
    }
   ],
   "source": [
    "# Approximate Solution\n",
    "\n",
    "cube = 27\n",
    "\n",
    "epsilon = 0.01\n",
    "\n",
    "guess = 0.0\n",
    "\n",
    "increment = 0.00001\n",
    "\n",
    "num_guesses = 0\n",
    "\n",
    "while abs(guess ** 3 - cube) >= epsilon:\n",
    "    guess += increment\n",
    "    num_guesses += 1\n",
    "\n",
    "print(\"num_guesses =\", num_guesses)\n",
    "\n",
    "if abs(guess ** 3 - cube) >= epsilon:\n",
    "    print(\"Failed on cube root of\", cube)\n",
    "\n",
    "else:\n",
    "    print(guess, \"is close to the cube root of\", cube)"
   ]
  },
  {
   "cell_type": "code",
   "execution_count": 7,
   "metadata": {},
   "outputs": [
    {
     "output_type": "stream",
     "name": "stdout",
     "text": [
      "succeeded: 4.999999999999998\n"
     ]
    }
   ],
   "source": [
    "x = 25\n",
    "epsilon = 0.01\n",
    "step = 0.1\n",
    "guess = 0.0\n",
    "\n",
    "while abs(guess**2-x) >= epsilon:\n",
    "    if guess <= x:\n",
    "        guess += step\n",
    "    else:\n",
    "        break\n",
    "\n",
    "if abs(guess**2 - x) >= epsilon:\n",
    "    print('failed')\n",
    "else:\n",
    "    print('succeeded: ' + str(guess))"
   ]
  },
  {
   "cell_type": "code",
   "execution_count": 9,
   "metadata": {},
   "outputs": [
    {
     "output_type": "stream",
     "name": "stdout",
     "text": [
      "low = 1.0 high = 25 ans = 13.0\nlow = 1.0 high = 13.0 ans = 7.0\nlow = 1.0 high = 7.0 ans = 4.0\nlow = 4.0 high = 7.0 ans = 5.5\nlow = 4.0 high = 5.5 ans = 4.75\nlow = 4.75 high = 5.5 ans = 5.125\nlow = 4.75 high = 5.125 ans = 4.9375\nlow = 4.9375 high = 5.125 ans = 5.03125\nlow = 4.9375 high = 5.03125 ans = 4.984375\nlow = 4.984375 high = 5.03125 ans = 5.0078125\nlow = 4.984375 high = 5.0078125 ans = 4.99609375\nlow = 4.99609375 high = 5.0078125 ans = 5.001953125\nnum_guesses = 12\n4.9990234375 is close to square root of 25\n"
     ]
    }
   ],
   "source": [
    "# Bisection Search\n",
    "\n",
    "x = 25\n",
    "\n",
    "epsilon = 0.01\n",
    "\n",
    "num_guesses = 0\n",
    "\n",
    "low = 1.0\n",
    "\n",
    "high = x\n",
    "\n",
    "ans = (high + low)/2.0\n",
    "\n",
    "while abs(ans ** 2 - x) >= epsilon:\n",
    "    print(\"low = \" + str(low) + \" high = \" + str(high)+ \" ans = \" + str(ans))\n",
    "    num_guesses += 1\n",
    "    if ans ** 2 < x:\n",
    "        low = ans\n",
    "    \n",
    "    else:\n",
    "        high = ans\n",
    "\n",
    "    ans = (high + low)/2.0\n",
    "\n",
    "print(\"num_guesses = \" + str(num_guesses))\n",
    "\n",
    "print(str(ans) + \" is close to square root of \" + str(x))\n"
   ]
  },
  {
   "cell_type": "code",
   "execution_count": 3,
   "metadata": {},
   "outputs": [
    {
     "output_type": "stream",
     "name": "stdout",
     "text": [
      "Please think of a number between 0 (inclusive) and 100 (not inclusive\n",
      "\n",
      "Is your secret number 50?\n",
      "\n",
      "Is your secret number 25?\n",
      "\n",
      "Game over. Your secret number was: 25\n"
     ]
    }
   ],
   "source": [
    "# In this problem, you'll create a program that guesses a secret number!\n",
    "\n",
    "# The program works as follows: you (the user) thinks of an integer between 0 (inclusive) and 100 (not inclusive). The computer makes guesses, and you give it input - is its guess too high or too low? Using bisection search, the computer will guess the user's secret number!\n",
    "\n",
    "# Initializing\n",
    "\n",
    "print(\"Please think of a number between 0 (inclusive) and 100 (not inclusive\")\n",
    "\n",
    "low = 0\n",
    "\n",
    "high = 100\n",
    "\n",
    "ans = int((low + high) / 2)\n",
    "\n",
    "\n",
    "print(\"\\nIs your secret number \" + str(ans) + \"?\")\n",
    "\n",
    "\n",
    "y = [\"h\", \"l\", \"c\"]\n",
    "\n",
    "\n",
    "x = input(\"\\nEnter 'h' to indicate the guess is too high. Enter 'l' to indicate the guess is too low. Enter 'c' to indicate I guessed correctly. \")\n",
    "\n",
    "\n",
    "\n",
    "while x not in y:\n",
    "    print(\"\\nSorry, I did not understand your input.\")\n",
    "\n",
    "    x = input(\"\\nEnter 'h' to indicate the guess is too high. Enter 'l' to indicate the guess is too low. Enter 'c' to indicate I guessed correctly. \")\n",
    "\n",
    "\n",
    "while x != \"c\":\n",
    "\n",
    "    # Off to do a Bisection\n",
    "\n",
    "    if x == \"h\":\n",
    "        high = ans\n",
    "\n",
    "    else:\n",
    "        low = ans\n",
    "\n",
    "    ans = int((low + high) / 2)\n",
    "\n",
    "    print(\"\\nIs your secret number \" + str(ans) + \"?\")\n",
    "\n",
    "    x = input(\"\\nEnter 'h' to indicate the guess is too high. Enter 'l' to indicate the guess is too low. Enter 'c' to indicate I guessed correctly. \")\n",
    "\n",
    "    while x not in y:\n",
    "        print(\"\\nSorry, I did not understand your input.\")\n",
    "\n",
    "        print(\"\\nIs your secret number \" + str(ans) + \"?\")\n",
    "\n",
    "        x = input(\"\\nEnter 'h' to indicate the guess is too high. Enter 'l' to indicate the guess is too low. Enter 'c' to indicate I guessed correctly. \")\n",
    "\n",
    "# Final Phase\n",
    "\n",
    "print(\"\\nGame over. Your secret number was:\", ans)\n",
    "\n"
   ]
  },
  {
   "cell_type": "code",
   "execution_count": 5,
   "metadata": {},
   "outputs": [
    {
     "output_type": "stream",
     "name": "stdout",
     "text": [
      "num_guesses = 5\nSquare root of 64 is about 8.000001273385879\n"
     ]
    }
   ],
   "source": [
    "# Newton - Raphson Approximation\n",
    "\n",
    "epsilon = 0.01\n",
    "\n",
    "y = 64\n",
    "\n",
    "# Initial Guess\n",
    "guess = y / 2\n",
    "\n",
    "# Initializing the number of guesses\n",
    "num_guess = 0\n",
    "\n",
    "while abs((guess ** 2) - y) >= 0.01:\n",
    "    num_guess += 1\n",
    "\n",
    "    # Newton-Raphson Approximation\n",
    "\n",
    "    guess = guess - (((guess ** 2) - y)/(2*guess))\n",
    "\n",
    "print(\"num_guesses = \" + str(num_guess))\n",
    "\n",
    "print(\"Square root of \" + str(y) + \" is about \" + str(guess))\n"
   ]
  },
  {
   "cell_type": "code",
   "execution_count": null,
   "metadata": {},
   "outputs": [],
   "source": []
  }
 ]
}