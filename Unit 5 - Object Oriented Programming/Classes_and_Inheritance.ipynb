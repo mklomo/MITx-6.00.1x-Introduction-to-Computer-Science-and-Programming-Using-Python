{
 "metadata": {
  "language_info": {
   "codemirror_mode": {
    "name": "ipython",
    "version": 3
   },
   "file_extension": ".py",
   "mimetype": "text/x-python",
   "name": "python",
   "nbconvert_exporter": "python",
   "pygments_lexer": "ipython3",
   "version": "3.9.0"
  },
  "orig_nbformat": 2,
  "kernelspec": {
   "name": "python3",
   "display_name": "Python 3.9.0 64-bit",
   "metadata": {
    "interpreter": {
     "hash": "aee8b7b246df8f9039afb4144a1f6fd8d2ca17a180786b69acc140d282b71a49"
    }
   }
  }
 },
 "nbformat": 4,
 "nbformat_minor": 2,
 "cells": [
  {
   "cell_type": "code",
   "execution_count": null,
   "metadata": {},
   "outputs": [],
   "source": [
    "from house import House\n",
    "\n",
    "house_1 = House(35, 15, 16)\n",
    "\n",
    "house_2 = House(50, 25, 86)"
   ]
  },
  {
   "cell_type": "code",
   "execution_count": null,
   "metadata": {},
   "outputs": [],
   "source": [
    "house_1.clean"
   ]
  },
  {
   "cell_type": "code",
   "execution_count": null,
   "metadata": {},
   "outputs": [],
   "source": [
    "house_1.uncleanHouse()"
   ]
  },
  {
   "cell_type": "code",
   "execution_count": null,
   "metadata": {},
   "outputs": [],
   "source": [
    "house_2.clean"
   ]
  },
  {
   "cell_type": "code",
   "execution_count": null,
   "metadata": {},
   "outputs": [],
   "source": [
    "from coordinate import Coordinate\n",
    "\n",
    "\n",
    "a = Coordinate(5, 10)\n",
    "\n",
    "b = Coordinate(0, 0)\n",
    "\n",
    "round(a.distance(b), 2)"
   ]
  },
  {
   "cell_type": "code",
   "execution_count": null,
   "metadata": {},
   "outputs": [],
   "source": [
    "# Implementing __str__ method\n",
    "\n",
    "print(a)"
   ]
  },
  {
   "cell_type": "code",
   "execution_count": null,
   "metadata": {},
   "outputs": [],
   "source": [
    "from clock import Clock\n",
    "\n",
    "\n",
    "clock = Clock('5:30')\n",
    "clock.print_time()"
   ]
  },
  {
   "cell_type": "code",
   "execution_count": 1,
   "metadata": {},
   "outputs": [
    {
     "output_type": "stream",
     "name": "stdout",
     "text": [
      "< 1/2 >\n< 2/3 >\n"
     ]
    }
   ],
   "source": [
    "from fractions import Fraction\n",
    "\n",
    "\n",
    "one_Half = Fraction(1, 2)\n",
    "\n",
    "two_Thirds = Fraction(2, 3)\n",
    "\n",
    "print(one_Half)\n",
    "\n",
    "print(two_Thirds)\n",
    "\n"
   ]
  },
  {
   "cell_type": "code",
   "execution_count": 2,
   "metadata": {},
   "outputs": [
    {
     "output_type": "execute_result",
     "data": {
      "text/plain": [
       "1"
      ]
     },
     "metadata": {},
     "execution_count": 2
    }
   ],
   "source": [
    "# Get the Numerator\n",
    "\n",
    "one_Half.getNum()\n",
    "\n"
   ]
  },
  {
   "cell_type": "code",
   "execution_count": 3,
   "metadata": {},
   "outputs": [
    {
     "output_type": "execute_result",
     "data": {
      "text/plain": [
       "2"
      ]
     },
     "metadata": {},
     "execution_count": 3
    }
   ],
   "source": [
    "# Get the Denominator\n",
    "\n",
    "one_Half.getDenom()"
   ]
  },
  {
   "cell_type": "code",
   "execution_count": 4,
   "metadata": {},
   "outputs": [
    {
     "output_type": "stream",
     "name": "stdout",
     "text": [
      "< 7/6 >\n"
     ]
    }
   ],
   "source": [
    "# Adding two instances\n",
    "\n",
    "new = one_Half + two_Thirds\n",
    "\n",
    "print(new)"
   ]
  },
  {
   "cell_type": "code",
   "execution_count": 5,
   "metadata": {},
   "outputs": [
    {
     "output_type": "stream",
     "name": "stdout",
     "text": [
      "< 1/6 >\n"
     ]
    }
   ],
   "source": [
    "# Subtracting two instances\n",
    "\n",
    "new_2 = one_Half - two_Thirds\n",
    "\n",
    "print(new_2)"
   ]
  },
  {
   "cell_type": "code",
   "execution_count": 2,
   "metadata": {},
   "outputs": [
    {
     "output_type": "execute_result",
     "data": {
      "text/plain": [
       "0.5"
      ]
     },
     "metadata": {},
     "execution_count": 2
    }
   ],
   "source": [
    "# Convert method\n",
    "\n",
    "one_Half.convert()"
   ]
  },
  {
   "cell_type": "code",
   "execution_count": 1,
   "metadata": {},
   "outputs": [
    {
     "output_type": "stream",
     "name": "stdout",
     "text": [
      "{}\n"
     ]
    }
   ],
   "source": [
    "from integerSet import Int_Set\n",
    "\n",
    "\n",
    "m = Int_Set()\n",
    "\n",
    "print(m)"
   ]
  },
  {
   "cell_type": "code",
   "execution_count": 2,
   "metadata": {},
   "outputs": [],
   "source": [
    "m.insert(3)"
   ]
  },
  {
   "cell_type": "code",
   "execution_count": 3,
   "metadata": {},
   "outputs": [],
   "source": [
    "m.insert(10)"
   ]
  },
  {
   "cell_type": "code",
   "execution_count": 4,
   "metadata": {},
   "outputs": [],
   "source": [
    "m.insert(10)"
   ]
  },
  {
   "cell_type": "code",
   "execution_count": 5,
   "metadata": {},
   "outputs": [
    {
     "output_type": "stream",
     "name": "stdout",
     "text": [
      "{3,10}\n"
     ]
    }
   ],
   "source": [
    "print(m)"
   ]
  },
  {
   "cell_type": "code",
   "execution_count": 6,
   "metadata": {},
   "outputs": [
    {
     "output_type": "execute_result",
     "data": {
      "text/plain": [
       "True"
      ]
     },
     "metadata": {},
     "execution_count": 6
    }
   ],
   "source": [
    "m.member(3)"
   ]
  },
  {
   "cell_type": "code",
   "execution_count": 7,
   "metadata": {},
   "outputs": [],
   "source": [
    "m.remove(3)"
   ]
  },
  {
   "cell_type": "code",
   "execution_count": 8,
   "metadata": {},
   "outputs": [
    {
     "output_type": "stream",
     "name": "stdout",
     "text": [
      "{10}\n"
     ]
    }
   ],
   "source": [
    "print(m)"
   ]
  },
  {
   "cell_type": "code",
   "execution_count": 10,
   "metadata": {},
   "outputs": [],
   "source": [
    "m.insert(100)"
   ]
  },
  {
   "cell_type": "code",
   "execution_count": 11,
   "metadata": {},
   "outputs": [
    {
     "output_type": "stream",
     "name": "stdout",
     "text": [
      "{10,100}\n"
     ]
    }
   ],
   "source": [
    "print(m)"
   ]
  },
  {
   "cell_type": "code",
   "execution_count": 1,
   "metadata": {},
   "outputs": [
    {
     "output_type": "stream",
     "name": "stdout",
     "text": [
      "4\n4\nTrue\n"
     ]
    }
   ],
   "source": [
    "from coordinate import Coordinate\n",
    "\n",
    "\n",
    "a = Coordinate(4, 4)\n",
    "\n",
    "print(a.getX())\n",
    "\n",
    "print(a.getY())\n",
    "\n",
    "# Lets check equality\n",
    "\n",
    "print(a.getX() == a.getY())\n",
    "\n",
    "\n"
   ]
  },
  {
   "cell_type": "code",
   "execution_count": 2,
   "metadata": {},
   "outputs": [
    {
     "output_type": "execute_result",
     "data": {
      "text/plain": [
       "Coordinate(4,4)"
      ]
     },
     "metadata": {},
     "execution_count": 2
    }
   ],
   "source": [
    "# Using repr\n",
    "\n",
    "eval(repr(a))"
   ]
  },
  {
   "cell_type": "code",
   "execution_count": 6,
   "metadata": {},
   "outputs": [
    {
     "output_type": "execute_result",
     "data": {
      "text/plain": [
       "[]"
      ]
     },
     "metadata": {},
     "execution_count": 6
    }
   ],
   "source": [
    "def intersect(self, other):\n",
    "    result = []\n",
    "    for i in self:\n",
    "        if i in other:\n",
    "            if i not in result:\n",
    "                result.append(i)\n",
    "\n",
    "            else:\n",
    "                continue\n",
    "            \n",
    "    return result\n",
    "\n",
    "\n",
    "intersect([10,100,300], [1,2,3,4,5])"
   ]
  },
  {
   "cell_type": "code",
   "execution_count": 1,
   "metadata": {},
   "outputs": [],
   "source": [
    "from integerSet import Int_Set\n",
    "\n",
    "# Initializing an instance of the class\n",
    "\n",
    "a = Int_Set()\n",
    "\n",
    "a.insert(3)\n"
   ]
  },
  {
   "cell_type": "code",
   "execution_count": 2,
   "metadata": {},
   "outputs": [],
   "source": [
    "a.insert(2)\n",
    "\n",
    "a.insert(1)\n",
    "\n",
    "a.insert(4)"
   ]
  },
  {
   "cell_type": "code",
   "execution_count": 3,
   "metadata": {},
   "outputs": [
    {
     "output_type": "stream",
     "name": "stdout",
     "text": [
      "{1,2,3,4}\n"
     ]
    }
   ],
   "source": [
    "print(a)"
   ]
  },
  {
   "cell_type": "code",
   "execution_count": 4,
   "metadata": {},
   "outputs": [],
   "source": [
    "b = Int_Set()"
   ]
  },
  {
   "cell_type": "code",
   "execution_count": 5,
   "metadata": {},
   "outputs": [],
   "source": [
    "b.insert(10)\n",
    "\n",
    "b.insert(1)\n",
    "\n",
    "b.insert(30)\n",
    "\n",
    "b.insert(40)"
   ]
  },
  {
   "cell_type": "code",
   "execution_count": 6,
   "metadata": {},
   "outputs": [
    {
     "output_type": "stream",
     "name": "stdout",
     "text": [
      "{1,10,30,40}\n"
     ]
    }
   ],
   "source": [
    "print(b)"
   ]
  },
  {
   "cell_type": "code",
   "execution_count": 7,
   "metadata": {},
   "outputs": [
    {
     "output_type": "execute_result",
     "data": {
      "text/plain": [
       "[1, 2, 3, 4]"
      ]
     },
     "metadata": {},
     "execution_count": 7
    }
   ],
   "source": [
    "a.vals"
   ]
  },
  {
   "cell_type": "code",
   "execution_count": 8,
   "metadata": {},
   "outputs": [
    {
     "output_type": "execute_result",
     "data": {
      "text/plain": [
       "[1, 10, 30, 40]"
      ]
     },
     "metadata": {},
     "execution_count": 8
    }
   ],
   "source": [
    "b.vals"
   ]
  },
  {
   "cell_type": "code",
   "execution_count": 9,
   "metadata": {},
   "outputs": [
    {
     "output_type": "execute_result",
     "data": {
      "text/plain": [
       "4"
      ]
     },
     "metadata": {},
     "execution_count": 9
    }
   ],
   "source": [
    "len(a)"
   ]
  },
  {
   "cell_type": "code",
   "execution_count": 10,
   "metadata": {},
   "outputs": [
    {
     "output_type": "execute_result",
     "data": {
      "text/plain": [
       "4"
      ]
     },
     "metadata": {},
     "execution_count": 10
    }
   ],
   "source": [
    "b.__len__()"
   ]
  },
  {
   "cell_type": "code",
   "execution_count": 11,
   "metadata": {},
   "outputs": [
    {
     "output_type": "stream",
     "name": "stdout",
     "text": [
      "[[100, 200, 300]]\n"
     ]
    }
   ],
   "source": [
    "c = Int_Set()\n",
    "\n",
    "c.insert([100, 200, 300])\n",
    "\n",
    "print(c.vals)"
   ]
  },
  {
   "cell_type": "code",
   "execution_count": 13,
   "metadata": {},
   "outputs": [],
   "source": [
    "d = a.intersect(b)"
   ]
  },
  {
   "cell_type": "code",
   "execution_count": 14,
   "metadata": {},
   "outputs": [
    {
     "output_type": "execute_result",
     "data": {
      "text/plain": [
       "[1]"
      ]
     },
     "metadata": {},
     "execution_count": 14
    }
   ],
   "source": [
    "d.vals"
   ]
  },
  {
   "cell_type": "code",
   "execution_count": 117,
   "metadata": {},
   "outputs": [
    {
     "output_type": "stream",
     "name": "stdout",
     "text": [
      "{'a': 'a', 'b': 'b', 'c': 'c', 'd': 'd', 'e': 'e', 'f': 'f', 'g': 'g', 'h': 'h', 'i': 'i', 'j': 'j', 'k': 'k', 'l': 'l', 'm': 'm', 'n': 'n', 'o': 'o', 'p': 'p', 'q': 'q', 'r': 'r', 's': 's', 't': 't', 'u': 'u', 'v': 'v', 'w': 'w', 'x': 'x', 'y': 'y', 'z': 'z', 'A': 'A', 'B': 'B', 'C': 'C', 'D': 'D', 'E': 'E', 'F': 'F', 'G': 'G', 'H': 'H', 'I': 'I', 'J': 'J', 'K': 'K', 'L': 'L', 'M': 'M', 'N': 'N', 'O': 'O', 'P': 'P', 'Q': 'Q', 'R': 'R', 'S': 'S', 'T': 'T', 'U': 'U', 'V': 'V', 'W': 'W', 'X': 'X', 'Y': 'Y', 'Z': 'Z'}\n"
     ]
    }
   ],
   "source": [
    "import string\n",
    "\n",
    "a = string.ascii_lowercase\n",
    "\n",
    "b = string.ascii_uppercase\n",
    "\n",
    "c = (a+b)\n",
    "\n",
    "c_shift = (a+b)\n",
    "\n",
    "empty_Dict = {}\n",
    "\n",
    "for i in c:\n",
    "    empty_Dict.setdefault(i, i)\n",
    "\n",
    "p_c = empty_Dict.copy()\n",
    "\n",
    "print(p_c)\n",
    "    \n"
   ]
  },
  {
   "cell_type": "code",
   "execution_count": 95,
   "metadata": {},
   "outputs": [
    {
     "output_type": "execute_result",
     "data": {
      "text/plain": [
       "'abc'"
      ]
     },
     "metadata": {},
     "execution_count": 95
    }
   ],
   "source": [
    "a[0 : 3 - len(a)]"
   ]
  },
  {
   "cell_type": "code",
   "execution_count": 66,
   "metadata": {},
   "outputs": [
    {
     "output_type": "stream",
     "name": "stdout",
     "text": [
      "['a', 'b', 'c', 'd', 'e', 'f', 'g', 'h', 'i', 'j', 'k', 'l', 'm', 'n', 'o', 'p', 'q', 'r', 's', 't', 'u', 'v', 'w', 'x', 'y', 'z']\n"
     ]
    }
   ],
   "source": [
    "q = sorted(list(a))\n",
    "\n",
    "print(q)"
   ]
  },
  {
   "cell_type": "code",
   "execution_count": 38,
   "metadata": {},
   "outputs": [
    {
     "output_type": "execute_result",
     "data": {
      "text/plain": [
       "'pqr'"
      ]
     },
     "metadata": {},
     "execution_count": 38
    }
   ],
   "source": [
    "string = \"\"\n",
    "\n",
    "for i in \"pqr\":\n",
    "     string += empty_Dict[i]\n",
    "\n",
    "string"
   ]
  },
  {
   "cell_type": "code",
   "execution_count": 108,
   "metadata": {},
   "outputs": [
    {
     "output_type": "execute_result",
     "data": {
      "text/plain": [
       "'d'"
      ]
     },
     "metadata": {},
     "execution_count": 108
    }
   ],
   "source": [
    "def build_shift_dict(shift):\n",
    "        '''\n",
    "    Creates a dictionary that can be used to apply a cipher to a letter.\n",
    "    The dictionary maps every uppercase and lowercase letter to a\n",
    "    character shifted down the alphabet by the input shift. The dictionary should have 52 keys of all the uppercase letters and all the lowercaseletters only.        \n",
    "    \n",
    "    shift (integer): the amount by which to shift every letter of the alphabet. 0 <= shift < 26\n",
    "\n",
    "Returns: a dictionary mapping a letter (string) to another letter (string). \n",
    "        '''\n",
    "        import string \n",
    "\n",
    "        # lowercase_letters\n",
    "        low_case = list(string.ascii_lowercase)\n",
    "\n",
    "        R_1 = low_case[shift - len(low_case) : ] + low_case[ 0 : shift - len(low_case)]\n",
    "\n",
    "        R_1 = list(R_1)\n",
    "\n",
    "        # All upper case letter\n",
    "        upper_case = list(string.ascii_uppercase)\n",
    "\n",
    "        R_2 = upper_case[shift - len(upper_case): ] + upper_case[ 0 : shift - len(upper_case)]\n",
    "\n",
    "        R_2 = list(R_2)\n",
    "\n",
    "        map_Dict = dict(zip(low_case+upper_case, R_1+R_2))\n",
    "\n",
    "        return map_Dict\n",
    "\n",
    "build_shift_dict(shift = 3)[\"a\"]\n"
   ]
  },
  {
   "cell_type": "code",
   "execution_count": 6,
   "metadata": {},
   "outputs": [
    {
     "output_type": "stream",
     "name": "stdout",
     "text": [
      "<class 'toy.Toy'>\nFalse\n"
     ]
    }
   ],
   "source": [
    "from toy import Toy\n",
    "\n",
    "\n",
    "t_1 = Toy()\n",
    "\n",
    "t_2 = Toy()\n",
    "\n",
    "print(type(t_1))\n",
    "\n",
    "\n",
    "# They are different instances of the same class\n",
    "print(t_1 is t_2)"
   ]
  },
  {
   "cell_type": "code",
   "execution_count": 8,
   "metadata": {},
   "outputs": [],
   "source": [
    "# t_1.add() is of type method\n",
    "\n",
    "# Toy.add(t_1) is a function\n",
    "\n",
    "t_1.add([1,2,3,4,5])\n",
    "\n",
    "t_2.add([2,4,6,8])"
   ]
  },
  {
   "cell_type": "code",
   "execution_count": 9,
   "metadata": {},
   "outputs": [
    {
     "output_type": "execute_result",
     "data": {
      "text/plain": [
       "[1, 2, 3, 4, 5, 1, 2, 3, 4, 5]"
      ]
     },
     "metadata": {},
     "execution_count": 9
    }
   ],
   "source": [
    "t_1.elements"
   ]
  },
  {
   "cell_type": "code",
   "execution_count": 2,
   "metadata": {},
   "outputs": [
    {
     "output_type": "stream",
     "name": "stdout",
     "text": [
      "True\n"
     ]
    }
   ],
   "source": [
    "from int_set import Int_Set\n",
    "\n",
    "m = Int_Set()\n",
    "\n",
    "m.insert(100)\n",
    "\n",
    "print(m.member(100))\n",
    "\n"
   ]
  },
  {
   "cell_type": "code",
   "execution_count": 3,
   "metadata": {},
   "outputs": [
    {
     "output_type": "stream",
     "name": "stdout",
     "text": [
      "{99,100}\n"
     ]
    }
   ],
   "source": [
    "m.insert(99)\n",
    "\n",
    "print(m)"
   ]
  },
  {
   "cell_type": "code",
   "execution_count": 4,
   "metadata": {},
   "outputs": [],
   "source": [
    "n = Int_Set()\n",
    "\n",
    "\n",
    "n.insert(90)\n",
    "\n",
    "n.insert(100)\n",
    "\n",
    "n.insert(200)\n",
    "\n",
    "# The union is an instance of class Int_Set\n",
    "\n",
    "l = m + n"
   ]
  },
  {
   "cell_type": "code",
   "execution_count": 5,
   "metadata": {},
   "outputs": [
    {
     "output_type": "execute_result",
     "data": {
      "text/plain": [
       "int_set.Int_Set"
      ]
     },
     "metadata": {},
     "execution_count": 5
    }
   ],
   "source": [
    "type(l)"
   ]
  },
  {
   "cell_type": "code",
   "execution_count": 6,
   "metadata": {},
   "outputs": [
    {
     "output_type": "execute_result",
     "data": {
      "text/plain": [
       "[99, 100, 90, 200]"
      ]
     },
     "metadata": {},
     "execution_count": 6
    }
   ],
   "source": [
    "l._vals"
   ]
  },
  {
   "cell_type": "code",
   "execution_count": 1,
   "metadata": {},
   "outputs": [
    {
     "output_type": "stream",
     "name": "stdout",
     "text": [
      "The value of a_3 is [10, 20, 12, 24]\nThe length of a_3 is 4\n"
     ]
    }
   ],
   "source": [
    "from toy import Toy\n",
    "\n",
    "\n",
    "a_1 = Toy()\n",
    "\n",
    "a_2 = Toy()\n",
    "\n",
    "a_1.add([10, 20])\n",
    "\n",
    "a_2.add([12, 24])\n",
    "\n",
    "a_3 = a_1 + a_2\n",
    "\n",
    "print(\"The value of a_3 is\", a_3)\n",
    "\n",
    "print(\"The length of a_3 is\", len(a_3))\n",
    "\n"
   ]
  },
  {
   "cell_type": "code",
   "execution_count": 1,
   "metadata": {},
   "outputs": [],
   "source": [
    "from person import Person \n",
    "import datetime\n",
    "\n",
    "me = Person(\"Marvin Nii Lomo\")\n",
    "\n",
    "father = Person(\"George Adjei\")\n",
    "\n",
    "mother = Person(\"NanaYaa\")\n",
    "\n",
    "brother = Person(\"Adusei\")\n"
   ]
  },
  {
   "cell_type": "code",
   "execution_count": 2,
   "metadata": {},
   "outputs": [
    {
     "output_type": "stream",
     "name": "stdout",
     "text": [
      "Lomo\nAdjei\nNanaYaa\n"
     ]
    }
   ],
   "source": [
    "# Lets get the lastnames\n",
    "\n",
    "print(me.get_last_name())\n",
    "\n",
    "print(father.get_last_name())\n",
    "\n",
    "print(mother.get_last_name())\n",
    "\n"
   ]
  },
  {
   "cell_type": "code",
   "execution_count": 3,
   "metadata": {},
   "outputs": [],
   "source": [
    "# Lets set the birthday\n",
    "\n",
    "me.set_birthday(datetime.date(1992, 11, 16))\n",
    "\n"
   ]
  },
  {
   "cell_type": "code",
   "execution_count": 4,
   "metadata": {},
   "outputs": [
    {
     "output_type": "execute_result",
     "data": {
      "text/plain": [
       "10351"
      ]
     },
     "metadata": {},
     "execution_count": 4
    }
   ],
   "source": [
    "# My Age in days\n",
    "\n",
    "me.get_age()"
   ]
  },
  {
   "cell_type": "code",
   "execution_count": 5,
   "metadata": {},
   "outputs": [
    {
     "output_type": "stream",
     "name": "stdout",
     "text": [
      "Marvin Nii Lomo\nGeorge Adjei\nNanaYaa\nAdusei\n"
     ]
    }
   ],
   "source": [
    "# Operator overloading\n",
    "\n",
    "p_List = [me, father, mother, brother]\n",
    "\n",
    "\n",
    "for p in p_List:\n",
    "    print(p)"
   ]
  },
  {
   "cell_type": "code",
   "execution_count": 6,
   "metadata": {},
   "outputs": [
    {
     "output_type": "stream",
     "name": "stdout",
     "text": [
      "George Adjei\nAdusei\nMarvin Nii Lomo\nNanaYaa\n"
     ]
    }
   ],
   "source": [
    "# Lets mutate the list\n",
    "\n",
    "p_List.sort()\n",
    "\n",
    "\n",
    "for p in p_List:\n",
    "    print(p)"
   ]
  },
  {
   "cell_type": "code",
   "execution_count": 1,
   "metadata": {},
   "outputs": [],
   "source": [
    "from person import MIT_person\n",
    "\n",
    "p_1 = MIT_person(\"Marvin Lomo\")"
   ]
  },
  {
   "cell_type": "code",
   "execution_count": 5,
   "metadata": {},
   "outputs": [],
   "source": [
    "p_2 = MIT_person(\"Eunice Akyeampong\")\n",
    "\n",
    "p_3 = MIT_person(\"Selorm Adafia\")\n",
    "\n",
    "p_4 = MIT_person(\"Ruth Adafia\")"
   ]
  },
  {
   "cell_type": "code",
   "execution_count": 3,
   "metadata": {},
   "outputs": [
    {
     "output_type": "stream",
     "name": "stdout",
     "text": [
      "Marvin Lomo's id number is 0\nEunice Akyeampong's id number is 1\nSelorm Adafia's id number is 2\n"
     ]
    }
   ],
   "source": [
    "print(str(p_1) + \"\\'s id number is \" + str(p_1.get_id_num()))\n",
    "\n",
    "\n",
    "print(str(p_2) + \"\\'s id number is \" + str(p_2.get_id_num()))\n",
    "\n",
    "\n",
    "print(str(p_3) + \"\\'s id number is \" + str(p_3.get_id_num()))\n"
   ]
  },
  {
   "cell_type": "code",
   "execution_count": 4,
   "metadata": {},
   "outputs": [
    {
     "output_type": "stream",
     "name": "stdout",
     "text": [
      "False\n"
     ]
    }
   ],
   "source": [
    "# Comparing ID's with operator overload\n",
    "\n",
    "print(p_3 < p_2)"
   ]
  },
  {
   "cell_type": "code",
   "execution_count": 1,
   "metadata": {},
   "outputs": [],
   "source": [
    "from person import *"
   ]
  },
  {
   "cell_type": "code",
   "execution_count": 2,
   "metadata": {},
   "outputs": [
    {
     "output_type": "stream",
     "name": "stdout",
     "text": [
      "David Adafia is a graduate student is True\nSamuel Adafia is an undergraduate student is False\n"
     ]
    }
   ],
   "source": [
    "p_5 = Grad(\"David Adafia\")\n",
    "\n",
    "p_6 = UG(\"Samuel Adafia\", 2010)\n",
    "\n",
    "print(p_5, \"is a graduate student is\", type(p_5) == Grad)\n",
    "\n",
    "print(p_6, \"is an undergraduate student is\", type(p_5) == UG)"
   ]
  },
  {
   "cell_type": "code",
   "execution_count": 6,
   "metadata": {},
   "outputs": [
    {
     "output_type": "stream",
     "name": "stdout",
     "text": [
      "David Adafia is a student is True\nSamuel Adafia is a student is True\nSelorm Adafia is a student is False\n"
     ]
    }
   ],
   "source": [
    "print(p_5, \"is a student is\", p_5.is_student())\n",
    "\n",
    "print(p_6, \"is a student is\", p_6.is_student())\n",
    "\n",
    "print(p_3, \"is a student is\", p_3.is_student())"
   ]
  },
  {
   "cell_type": "code",
   "execution_count": 3,
   "metadata": {},
   "outputs": [
    {
     "output_type": "execute_result",
     "data": {
      "text/plain": [
       "'Keta Secondary Technical'"
      ]
     },
     "metadata": {},
     "execution_count": 3
    }
   ],
   "source": [
    "p_7 = Transfer_student(\"Irene Adafia\", \"Keta Secondary Technical\")\n",
    "\n",
    "p_7.get_old_school()"
   ]
  },
  {
   "cell_type": "code",
   "execution_count": 4,
   "metadata": {},
   "outputs": [],
   "source": [
    "# Implementing the Grade Book\n",
    "\n",
    "course = Grades()\n",
    "\n",
    "course.add_student(Grad(\"Bernie\"))\n",
    "\n",
    "all_students = course.get_students()"
   ]
  },
  {
   "cell_type": "code",
   "execution_count": 5,
   "metadata": {},
   "outputs": [],
   "source": [
    "# Add another student\n",
    "\n",
    "all_students.append(Grad(\"Liz\"))"
   ]
  },
  {
   "cell_type": "code",
   "execution_count": 12,
   "metadata": {},
   "outputs": [],
   "source": [
    "def grade_report(course):\n",
    "    \"\"\" Assumes course is of type Grades \"\"\"\n",
    "\n",
    "    report = \"\"\n",
    "\n",
    "    for student in course.get_students():\n",
    "        tot = 0.00\n",
    "        num_grades = 0\n",
    "\n",
    "        for grade in course.get_grades(student):\n",
    "            tot += grade\n",
    "            num_grades += 1\n",
    "        try:\n",
    "            average = tot/num_grades\n",
    "            report = f\"{report}\\n{student}'s mean grade is {average}\"\n",
    "        except ZeroDivisionError:\n",
    "            report = f\"{report}\\n{student} has no grades\"\n",
    "\n",
    "    return report\n",
    "\n"
   ]
  },
  {
   "cell_type": "code",
   "execution_count": 1,
   "metadata": {},
   "outputs": [],
   "source": [
    "from person import *\n",
    "\n",
    "ug_1 = UG(\"Maame Nkansaah\", 2022)\n",
    "\n",
    "ug_2 = UG(\"Salomey James\", 2024)\n",
    "\n",
    "ug_3 = UG(\"Ruth Sedem\", 2023)\n",
    "\n",
    "g_1 = Grad(\"Marvin Lomo\")\n",
    "\n",
    "g_2 = Grad(\"Bucky F. Dent\")\n",
    "\n"
   ]
  },
  {
   "cell_type": "code",
   "execution_count": 2,
   "metadata": {},
   "outputs": [],
   "source": [
    "# Grades for course 600\n",
    "\n",
    "six_hunderd = Grades()\n",
    "\n",
    "\n",
    "# Adding students\n",
    "six_hunderd.add_student(ug_1)\n",
    "\n",
    "six_hunderd.add_student(ug_2)\n",
    "\n",
    "six_hunderd.add_student(ug_3)\n",
    "\n",
    "six_hunderd.add_student(g_1)\n",
    "\n",
    "six_hunderd.add_student(g_2)"
   ]
  },
  {
   "cell_type": "code",
   "execution_count": 3,
   "metadata": {},
   "outputs": [],
   "source": [
    "# For students on the list students.get_students() --> Add Grade \n",
    "\n",
    "for student in six_hunderd.get_students():\n",
    "    six_hunderd.add_grade(student, 75)\n",
    "\n"
   ]
  },
  {
   "cell_type": "code",
   "execution_count": 4,
   "metadata": {},
   "outputs": [],
   "source": [
    "# Adding grade for Grade Students\n",
    "\n",
    "six_hunderd.add_grade(g_1, 25)\n",
    "\n",
    "six_hunderd.add_grade(g_2, 100)"
   ]
  },
  {
   "cell_type": "code",
   "execution_count": 5,
   "metadata": {},
   "outputs": [
    {
     "output_type": "stream",
     "name": "stdout",
     "text": [
      "\nMaame Nkansaah's mean grade is 75.0\nSalomey James's mean grade is 75.0\nRuth Sedem's mean grade is 75.0\nMarvin Lomo's mean grade is 50.0\nBucky F. Dent's mean grade is 87.5\n"
     ]
    }
   ],
   "source": [
    "print(grade_report(six_hunderd))"
   ]
  },
  {
   "cell_type": "code",
   "execution_count": 5,
   "metadata": {},
   "outputs": [
    {
     "output_type": "stream",
     "text": [
      "\u001b[0;31mSignature:\u001b[0m \u001b[0mgrade_report\u001b[0m\u001b[0;34m(\u001b[0m\u001b[0mcourse\u001b[0m\u001b[0;34m)\u001b[0m\u001b[0;34m\u001b[0m\u001b[0;34m\u001b[0m\u001b[0m\n",
      "\u001b[0;31mDocstring:\u001b[0m Assumes course is of type Grades \n",
      "\u001b[0;31mFile:\u001b[0m      ~/Documents/MITx-6.00.1x-Introduction-to-Computer-Science-and-Programming-Using-Python/Unit 5 - Object Oriented Programming/person.py\n",
      "\u001b[0;31mType:\u001b[0m      function\n"
     ],
     "name": "stdout"
    }
   ],
   "source": [
    "grade_report?"
   ]
  },
  {
   "cell_type": "code",
   "execution_count": null,
   "metadata": {},
   "outputs": [],
   "source": []
  }
 ]
}