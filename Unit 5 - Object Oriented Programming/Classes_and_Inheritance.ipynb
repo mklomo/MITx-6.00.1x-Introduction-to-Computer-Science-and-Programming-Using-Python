{
 "metadata": {
  "language_info": {
   "codemirror_mode": {
    "name": "ipython",
    "version": 3
   },
   "file_extension": ".py",
   "mimetype": "text/x-python",
   "name": "python",
   "nbconvert_exporter": "python",
   "pygments_lexer": "ipython3",
   "version": "3.9.0-final"
  },
  "orig_nbformat": 2,
  "kernelspec": {
   "name": "python3",
   "display_name": "Python 3.9.0 64-bit",
   "metadata": {
    "interpreter": {
     "hash": "7812ea015bdcee6f23a998adcdd2ef97c151c0c241b7b7070987d9313e41299d"
    }
   }
  }
 },
 "nbformat": 4,
 "nbformat_minor": 2,
 "cells": [
  {
   "cell_type": "code",
   "execution_count": null,
   "metadata": {},
   "outputs": [],
   "source": [
    "from house import House\n",
    "\n",
    "house_1 = House(35, 15, 16)\n",
    "\n",
    "house_2 = House(50, 25, 86)"
   ]
  },
  {
   "cell_type": "code",
   "execution_count": null,
   "metadata": {},
   "outputs": [],
   "source": [
    "house_1.clean"
   ]
  },
  {
   "cell_type": "code",
   "execution_count": null,
   "metadata": {},
   "outputs": [],
   "source": [
    "house_1.uncleanHouse()"
   ]
  },
  {
   "cell_type": "code",
   "execution_count": null,
   "metadata": {},
   "outputs": [],
   "source": [
    "house_2.clean"
   ]
  },
  {
   "cell_type": "code",
   "execution_count": null,
   "metadata": {},
   "outputs": [],
   "source": [
    "from coordinate import Coordinate\n",
    "\n",
    "\n",
    "a = Coordinate(5, 10)\n",
    "\n",
    "b = Coordinate(0, 0)\n",
    "\n",
    "round(a.distance(b), 2)"
   ]
  },
  {
   "cell_type": "code",
   "execution_count": null,
   "metadata": {},
   "outputs": [],
   "source": [
    "# Implementing __str__ method\n",
    "\n",
    "print(a)"
   ]
  },
  {
   "cell_type": "code",
   "execution_count": null,
   "metadata": {},
   "outputs": [],
   "source": [
    "from clock import Clock\n",
    "\n",
    "\n",
    "clock = Clock('5:30')\n",
    "clock.print_time()"
   ]
  },
  {
   "cell_type": "code",
   "execution_count": 1,
   "metadata": {},
   "outputs": [
    {
     "output_type": "stream",
     "name": "stdout",
     "text": [
      "< 1/2 >\n< 2/3 >\n"
     ]
    }
   ],
   "source": [
    "from fractions import Fraction\n",
    "\n",
    "\n",
    "one_Half = Fraction(1, 2)\n",
    "\n",
    "two_Thirds = Fraction(2, 3)\n",
    "\n",
    "print(one_Half)\n",
    "\n",
    "print(two_Thirds)\n",
    "\n"
   ]
  },
  {
   "cell_type": "code",
   "execution_count": 2,
   "metadata": {},
   "outputs": [
    {
     "output_type": "execute_result",
     "data": {
      "text/plain": [
       "1"
      ]
     },
     "metadata": {},
     "execution_count": 2
    }
   ],
   "source": [
    "# Get the Numerator\n",
    "\n",
    "one_Half.getNum()\n",
    "\n"
   ]
  },
  {
   "cell_type": "code",
   "execution_count": 3,
   "metadata": {},
   "outputs": [
    {
     "output_type": "execute_result",
     "data": {
      "text/plain": [
       "2"
      ]
     },
     "metadata": {},
     "execution_count": 3
    }
   ],
   "source": [
    "# Get the Denominator\n",
    "\n",
    "one_Half.getDenom()"
   ]
  },
  {
   "cell_type": "code",
   "execution_count": 4,
   "metadata": {},
   "outputs": [
    {
     "output_type": "stream",
     "name": "stdout",
     "text": [
      "< 7/6 >\n"
     ]
    }
   ],
   "source": [
    "# Adding two instances\n",
    "\n",
    "new = one_Half + two_Thirds\n",
    "\n",
    "print(new)"
   ]
  },
  {
   "cell_type": "code",
   "execution_count": 5,
   "metadata": {},
   "outputs": [
    {
     "output_type": "stream",
     "name": "stdout",
     "text": [
      "< 1/6 >\n"
     ]
    }
   ],
   "source": [
    "# Subtracting two instances\n",
    "\n",
    "new_2 = one_Half - two_Thirds\n",
    "\n",
    "print(new_2)"
   ]
  },
  {
   "cell_type": "code",
   "execution_count": 2,
   "metadata": {},
   "outputs": [
    {
     "output_type": "execute_result",
     "data": {
      "text/plain": [
       "0.5"
      ]
     },
     "metadata": {},
     "execution_count": 2
    }
   ],
   "source": [
    "# Convert method\n",
    "\n",
    "one_Half.convert()"
   ]
  },
  {
   "cell_type": "code",
   "execution_count": 1,
   "metadata": {},
   "outputs": [
    {
     "output_type": "stream",
     "name": "stdout",
     "text": [
      "{}\n"
     ]
    }
   ],
   "source": [
    "from integerSet import Int_Set\n",
    "\n",
    "\n",
    "m = Int_Set()\n",
    "\n",
    "print(m)"
   ]
  },
  {
   "cell_type": "code",
   "execution_count": 2,
   "metadata": {},
   "outputs": [],
   "source": [
    "m.insert(3)"
   ]
  },
  {
   "cell_type": "code",
   "execution_count": 3,
   "metadata": {},
   "outputs": [],
   "source": [
    "m.insert(10)"
   ]
  },
  {
   "cell_type": "code",
   "execution_count": 4,
   "metadata": {},
   "outputs": [],
   "source": [
    "m.insert(10)"
   ]
  },
  {
   "cell_type": "code",
   "execution_count": 5,
   "metadata": {},
   "outputs": [
    {
     "output_type": "stream",
     "name": "stdout",
     "text": [
      "{3,10}\n"
     ]
    }
   ],
   "source": [
    "print(m)"
   ]
  },
  {
   "cell_type": "code",
   "execution_count": 6,
   "metadata": {},
   "outputs": [
    {
     "output_type": "execute_result",
     "data": {
      "text/plain": [
       "True"
      ]
     },
     "metadata": {},
     "execution_count": 6
    }
   ],
   "source": [
    "m.member(3)"
   ]
  },
  {
   "cell_type": "code",
   "execution_count": 7,
   "metadata": {},
   "outputs": [],
   "source": [
    "m.remove(3)"
   ]
  },
  {
   "cell_type": "code",
   "execution_count": 8,
   "metadata": {},
   "outputs": [
    {
     "output_type": "stream",
     "name": "stdout",
     "text": [
      "{10}\n"
     ]
    }
   ],
   "source": [
    "print(m)"
   ]
  },
  {
   "cell_type": "code",
   "execution_count": 10,
   "metadata": {},
   "outputs": [],
   "source": [
    "m.insert(100)"
   ]
  },
  {
   "cell_type": "code",
   "execution_count": 11,
   "metadata": {},
   "outputs": [
    {
     "output_type": "stream",
     "name": "stdout",
     "text": [
      "{10,100}\n"
     ]
    }
   ],
   "source": [
    "print(m)"
   ]
  },
  {
   "cell_type": "code",
   "execution_count": 1,
   "metadata": {},
   "outputs": [
    {
     "output_type": "stream",
     "name": "stdout",
     "text": [
      "4\n4\nTrue\n"
     ]
    }
   ],
   "source": [
    "from coordinate import Coordinate\n",
    "\n",
    "\n",
    "a = Coordinate(4, 4)\n",
    "\n",
    "print(a.getX())\n",
    "\n",
    "print(a.getY())\n",
    "\n",
    "# Lets check equality\n",
    "\n",
    "print(a.getX() == a.getY())\n",
    "\n",
    "\n"
   ]
  },
  {
   "cell_type": "code",
   "execution_count": 2,
   "metadata": {},
   "outputs": [
    {
     "output_type": "execute_result",
     "data": {
      "text/plain": [
       "Coordinate(4,4)"
      ]
     },
     "metadata": {},
     "execution_count": 2
    }
   ],
   "source": [
    "# Using repr\n",
    "\n",
    "eval(repr(a))"
   ]
  },
  {
   "cell_type": "code",
   "execution_count": 6,
   "metadata": {},
   "outputs": [
    {
     "output_type": "execute_result",
     "data": {
      "text/plain": [
       "[]"
      ]
     },
     "metadata": {},
     "execution_count": 6
    }
   ],
   "source": [
    "def intersect(self, other):\n",
    "    result = []\n",
    "    for i in self:\n",
    "        if i in other:\n",
    "            if i not in result:\n",
    "                result.append(i)\n",
    "\n",
    "            else:\n",
    "                continue\n",
    "            \n",
    "    return result\n",
    "\n",
    "\n",
    "intersect([10,100,300], [1,2,3,4,5])"
   ]
  },
  {
   "cell_type": "code",
   "execution_count": 1,
   "metadata": {},
   "outputs": [],
   "source": [
    "from integerSet import Int_Set\n",
    "\n",
    "# Initializing an instance of the class\n",
    "\n",
    "a = Int_Set()\n",
    "\n",
    "a.insert(3)\n"
   ]
  },
  {
   "cell_type": "code",
   "execution_count": 2,
   "metadata": {},
   "outputs": [],
   "source": [
    "a.insert(2)\n",
    "\n",
    "a.insert(1)\n",
    "\n",
    "a.insert(4)"
   ]
  },
  {
   "cell_type": "code",
   "execution_count": 3,
   "metadata": {},
   "outputs": [
    {
     "output_type": "stream",
     "name": "stdout",
     "text": [
      "{1,2,3,4}\n"
     ]
    }
   ],
   "source": [
    "print(a)"
   ]
  },
  {
   "cell_type": "code",
   "execution_count": 4,
   "metadata": {},
   "outputs": [],
   "source": [
    "b = Int_Set()"
   ]
  },
  {
   "cell_type": "code",
   "execution_count": 5,
   "metadata": {},
   "outputs": [],
   "source": [
    "b.insert(10)\n",
    "\n",
    "b.insert(1)\n",
    "\n",
    "b.insert(30)\n",
    "\n",
    "b.insert(40)"
   ]
  },
  {
   "cell_type": "code",
   "execution_count": 6,
   "metadata": {},
   "outputs": [
    {
     "output_type": "stream",
     "name": "stdout",
     "text": [
      "{1,10,30,40}\n"
     ]
    }
   ],
   "source": [
    "print(b)"
   ]
  },
  {
   "cell_type": "code",
   "execution_count": 7,
   "metadata": {},
   "outputs": [
    {
     "output_type": "execute_result",
     "data": {
      "text/plain": [
       "[1, 2, 3, 4]"
      ]
     },
     "metadata": {},
     "execution_count": 7
    }
   ],
   "source": [
    "a.vals"
   ]
  },
  {
   "cell_type": "code",
   "execution_count": 8,
   "metadata": {},
   "outputs": [
    {
     "output_type": "execute_result",
     "data": {
      "text/plain": [
       "[1, 10, 30, 40]"
      ]
     },
     "metadata": {},
     "execution_count": 8
    }
   ],
   "source": [
    "b.vals"
   ]
  },
  {
   "cell_type": "code",
   "execution_count": 9,
   "metadata": {},
   "outputs": [
    {
     "output_type": "execute_result",
     "data": {
      "text/plain": [
       "4"
      ]
     },
     "metadata": {},
     "execution_count": 9
    }
   ],
   "source": [
    "len(a)"
   ]
  },
  {
   "cell_type": "code",
   "execution_count": 10,
   "metadata": {},
   "outputs": [
    {
     "output_type": "execute_result",
     "data": {
      "text/plain": [
       "4"
      ]
     },
     "metadata": {},
     "execution_count": 10
    }
   ],
   "source": [
    "b.__len__()"
   ]
  },
  {
   "cell_type": "code",
   "execution_count": 11,
   "metadata": {},
   "outputs": [
    {
     "output_type": "stream",
     "name": "stdout",
     "text": [
      "[[100, 200, 300]]\n"
     ]
    }
   ],
   "source": [
    "c = Int_Set()\n",
    "\n",
    "c.insert([100, 200, 300])\n",
    "\n",
    "print(c.vals)"
   ]
  },
  {
   "cell_type": "code",
   "execution_count": 13,
   "metadata": {},
   "outputs": [],
   "source": [
    "d = a.intersect(b)"
   ]
  },
  {
   "cell_type": "code",
   "execution_count": 14,
   "metadata": {},
   "outputs": [
    {
     "output_type": "execute_result",
     "data": {
      "text/plain": [
       "[1]"
      ]
     },
     "metadata": {},
     "execution_count": 14
    }
   ],
   "source": [
    "d.vals"
   ]
  },
  {
   "cell_type": "code",
   "execution_count": 117,
   "metadata": {},
   "outputs": [
    {
     "output_type": "stream",
     "name": "stdout",
     "text": [
      "{'a': 'a', 'b': 'b', 'c': 'c', 'd': 'd', 'e': 'e', 'f': 'f', 'g': 'g', 'h': 'h', 'i': 'i', 'j': 'j', 'k': 'k', 'l': 'l', 'm': 'm', 'n': 'n', 'o': 'o', 'p': 'p', 'q': 'q', 'r': 'r', 's': 's', 't': 't', 'u': 'u', 'v': 'v', 'w': 'w', 'x': 'x', 'y': 'y', 'z': 'z', 'A': 'A', 'B': 'B', 'C': 'C', 'D': 'D', 'E': 'E', 'F': 'F', 'G': 'G', 'H': 'H', 'I': 'I', 'J': 'J', 'K': 'K', 'L': 'L', 'M': 'M', 'N': 'N', 'O': 'O', 'P': 'P', 'Q': 'Q', 'R': 'R', 'S': 'S', 'T': 'T', 'U': 'U', 'V': 'V', 'W': 'W', 'X': 'X', 'Y': 'Y', 'Z': 'Z'}\n"
     ]
    }
   ],
   "source": [
    "import string\n",
    "\n",
    "a = string.ascii_lowercase\n",
    "\n",
    "b = string.ascii_uppercase\n",
    "\n",
    "c = (a+b)\n",
    "\n",
    "c_shift = (a+b)\n",
    "\n",
    "empty_Dict = {}\n",
    "\n",
    "for i in c:\n",
    "    empty_Dict.setdefault(i, i)\n",
    "\n",
    "p_c = empty_Dict.copy()\n",
    "\n",
    "print(p_c)\n",
    "    \n"
   ]
  },
  {
   "cell_type": "code",
   "execution_count": 95,
   "metadata": {},
   "outputs": [
    {
     "output_type": "execute_result",
     "data": {
      "text/plain": [
       "'abc'"
      ]
     },
     "metadata": {},
     "execution_count": 95
    }
   ],
   "source": [
    "a[0 : 3 - len(a)]"
   ]
  },
  {
   "cell_type": "code",
   "execution_count": 66,
   "metadata": {},
   "outputs": [
    {
     "output_type": "stream",
     "name": "stdout",
     "text": [
      "['a', 'b', 'c', 'd', 'e', 'f', 'g', 'h', 'i', 'j', 'k', 'l', 'm', 'n', 'o', 'p', 'q', 'r', 's', 't', 'u', 'v', 'w', 'x', 'y', 'z']\n"
     ]
    }
   ],
   "source": [
    "q = sorted(list(a))\n",
    "\n",
    "print(q)"
   ]
  },
  {
   "cell_type": "code",
   "execution_count": 38,
   "metadata": {},
   "outputs": [
    {
     "output_type": "execute_result",
     "data": {
      "text/plain": [
       "'pqr'"
      ]
     },
     "metadata": {},
     "execution_count": 38
    }
   ],
   "source": [
    "string = \"\"\n",
    "\n",
    "for i in \"pqr\":\n",
    "     string += empty_Dict[i]\n",
    "\n",
    "string"
   ]
  },
  {
   "cell_type": "code",
   "execution_count": 108,
   "metadata": {},
   "outputs": [
    {
     "output_type": "execute_result",
     "data": {
      "text/plain": [
       "'d'"
      ]
     },
     "metadata": {},
     "execution_count": 108
    }
   ],
   "source": [
    "def build_shift_dict(shift):\n",
    "        '''\n",
    "    Creates a dictionary that can be used to apply a cipher to a letter.\n",
    "    The dictionary maps every uppercase and lowercase letter to a\n",
    "    character shifted down the alphabet by the input shift. The dictionary should have 52 keys of all the uppercase letters and all the lowercaseletters only.        \n",
    "    \n",
    "    shift (integer): the amount by which to shift every letter of the alphabet. 0 <= shift < 26\n",
    "\n",
    "Returns: a dictionary mapping a letter (string) to another letter (string). \n",
    "        '''\n",
    "        import string \n",
    "\n",
    "        # lowercase_letters\n",
    "        low_case = list(string.ascii_lowercase)\n",
    "\n",
    "        R_1 = low_case[shift - len(low_case) : ] + low_case[ 0 : shift - len(low_case)]\n",
    "\n",
    "        R_1 = list(R_1)\n",
    "\n",
    "        # All upper case letter\n",
    "        upper_case = list(string.ascii_uppercase)\n",
    "\n",
    "        R_2 = upper_case[shift - len(upper_case): ] + upper_case[ 0 : shift - len(upper_case)]\n",
    "\n",
    "        R_2 = list(R_2)\n",
    "\n",
    "        map_Dict = dict(zip(low_case+upper_case, R_1+R_2))\n",
    "\n",
    "        return map_Dict\n",
    "\n",
    "build_shift_dict(shift = 3)[\"a\"]\n"
   ]
  },
  {
   "cell_type": "code",
   "execution_count": 116,
   "metadata": {},
   "outputs": [
    {
     "output_type": "stream",
     "name": "stdout",
     "text": [
      "Yes\n"
     ]
    }
   ],
   "source": [
    "if \"a\" in \"abc\":\n",
    "    print(\"Yes\")\n",
    "\n",
    "\n"
   ]
  },
  {
   "cell_type": "code",
   "execution_count": 115,
   "metadata": {},
   "outputs": [
    {
     "output_type": "stream",
     "name": "stdout",
     "text": [
      "!\n"
     ]
    }
   ],
   "source": [
    "text = \"\"\n",
    "\n",
    "for i in \"Yaw!Tog\":\n",
    "    if i.isalpha() == False:\n",
    "        text += i \n",
    "\n",
    "print(text)"
   ]
  },
  {
   "cell_type": "code",
   "execution_count": 109,
   "metadata": {},
   "outputs": [
    {
     "output_type": "execute_result",
     "data": {
      "text/plain": [
       "True"
      ]
     },
     "metadata": {},
     "execution_count": 109
    }
   ],
   "source": [
    "a.isalpha()"
   ]
  },
  {
   "cell_type": "code",
   "execution_count": 119,
   "metadata": {},
   "outputs": [],
   "source": [
    "from ps6 import *\n",
    "\n"
   ]
  },
  {
   "cell_type": "code",
   "execution_count": null,
   "metadata": {},
   "outputs": [],
   "source": []
  }
 ]
}