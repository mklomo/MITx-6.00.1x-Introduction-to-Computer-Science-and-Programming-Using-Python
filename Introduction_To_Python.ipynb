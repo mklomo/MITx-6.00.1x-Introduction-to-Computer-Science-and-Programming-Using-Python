{
 "metadata": {
  "language_info": {
   "codemirror_mode": {
    "name": "ipython",
    "version": 3
   },
   "file_extension": ".py",
   "mimetype": "text/x-python",
   "name": "python",
   "nbconvert_exporter": "python",
   "pygments_lexer": "ipython3",
   "version": "3.9.0-final"
  },
  "orig_nbformat": 2,
  "kernelspec": {
   "name": "python3",
   "display_name": "Python 3.9.0 64-bit",
   "metadata": {
    "interpreter": {
     "hash": "aee8b7b246df8f9039afb4144a1f6fd8d2ca17a180786b69acc140d282b71a49"
    }
   }
  }
 },
 "nbformat": 4,
 "nbformat_minor": 2,
 "cells": [
  {
   "cell_type": "code",
   "execution_count": 2,
   "metadata": {},
   "outputs": [
    {
     "output_type": "stream",
     "name": "stdout",
     "text": [
      "\nThe number 100 is even\n\nDone with conditional\n"
     ]
    }
   ],
   "source": [
    "# Operators and Branching\n",
    "\n",
    "x = int(input(\"Please enter a number: \"))\n",
    "\n",
    "if x % 2 == 0:\n",
    "    print(\"\\nThe number\", x, \"is even\")\n",
    "\n",
    "else:\n",
    "    print(\"\\nThe number\", x, \"is odd\")\n",
    "\n",
    "print(\"\\nDone with conditional\")"
   ]
  },
  {
   "cell_type": "code",
   "execution_count": null,
   "metadata": {},
   "outputs": [],
   "source": [
    "# Nested Conditions\n",
    "\n",
    "\n",
    "x = int(input(\"Please enter a number: \"))\n",
    "\n",
    "\n",
    "if x % 2 == 0:\n",
    "    if x % 3 == 0:\n",
    "        print(\"Divisible by 2 and 3\")\n",
    "    else:\n",
    "        print(\"Divisble by 2 and not by 3\")\n",
    "\n",
    "elif x % 3 == 0:\n",
    "    print(\"\\nDivisible by 2 and not by 3\") "
   ]
  },
  {
   "cell_type": "code",
   "execution_count": null,
   "metadata": {},
   "outputs": [],
   "source": [
    "# Compound Booleans\n",
    "\n",
    "if x < y and x < z:\n",
    "    print(\"x is the least\")\n",
    "\n",
    "elif y < z:\n",
    "    print(\"y is the least\")\n",
    "\n",
    "else:\n",
    "    print(\"z is the least\")"
   ]
  },
  {
   "cell_type": "code",
   "execution_count": 26,
   "metadata": {},
   "outputs": [
    {
     "output_type": "stream",
     "name": "stdout",
     "text": [
      "\nx is smaller\n\nthanks\n"
     ]
    }
   ],
   "source": [
    "# Indentation\n",
    "\n",
    "# This matters in python\n",
    "\n",
    "\n",
    "# eval allows the user to input more than one number separated by a comma\n",
    "x, y = eval(input(\"Enter a number for x and y separated by a comma: \"))\n",
    "\n",
    "if x == y:\n",
    "    print(\"\\nx and y are equal\")\n",
    "    if y != 0:\n",
    "        print(\"therefore, x / y is \", x/y)\n",
    "\n",
    "elif x < y:\n",
    "    print(\"\\nx is smaller\")\n",
    "\n",
    "else:\n",
    "    print(\"\\ny is smaller\")\n",
    "\n",
    "print(\"\\nthanks\")"
   ]
  },
  {
   "cell_type": "code",
   "execution_count": null,
   "metadata": {},
   "outputs": [],
   "source": []
  }
 ]
}