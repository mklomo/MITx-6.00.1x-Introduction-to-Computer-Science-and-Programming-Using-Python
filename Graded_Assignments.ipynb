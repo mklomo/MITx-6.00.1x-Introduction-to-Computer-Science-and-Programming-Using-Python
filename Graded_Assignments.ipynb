{
 "metadata": {
  "language_info": {
   "codemirror_mode": {
    "name": "ipython",
    "version": 3
   },
   "file_extension": ".py",
   "mimetype": "text/x-python",
   "name": "python",
   "nbconvert_exporter": "python",
   "pygments_lexer": "ipython3",
   "version": "3.9.0-final"
  },
  "orig_nbformat": 2,
  "kernelspec": {
   "name": "python3",
   "display_name": "Python 3.9.0 64-bit",
   "metadata": {
    "interpreter": {
     "hash": "7812ea015bdcee6f23a998adcdd2ef97c151c0c241b7b7070987d9313e41299d"
    }
   }
  }
 },
 "nbformat": 4,
 "nbformat_minor": 2,
 "cells": [
  {
   "cell_type": "code",
   "execution_count": 7,
   "metadata": {},
   "outputs": [
    {
     "output_type": "stream",
     "name": "stdout",
     "text": [
      "Number of vowels: 5\n"
     ]
    }
   ],
   "source": [
    "# Assume s is a string of lower case characters.\n",
    "\n",
    "# Write a program that counts up the number of vowels contained in the string s. Valid vowels are: 'a', 'e', 'i', 'o', and 'u'. For example, if s = 'azcbobobegghakl', your program should print:\n",
    "\n",
    "# Number of vowels: 5\n",
    "\n",
    "\n",
    "s = 'azcbobobegghakl'\n",
    "\n",
    "vowel_count = 0\n",
    "\n",
    "vowels = [\"a\", \"e\", \"i\", \"o\", \"u\"]\n",
    "\n",
    "for letter in s:\n",
    "    if letter in vowels:\n",
    "        vowel_count += 1\n",
    "print(\"Number of vowels: \" + str(vowel_count))\n"
   ]
  },
  {
   "cell_type": "code",
   "execution_count": 13,
   "metadata": {},
   "outputs": [
    {
     "output_type": "stream",
     "name": "stdout",
     "text": [
      "Number of times bob occurs is:  8\n"
     ]
    }
   ],
   "source": [
    "# Assume s is a string of lower case characters.\n",
    "\n",
    "# Write a program that prints the number of times the string 'bob' occurs in s. For example, if s = 'azcbobobegghakl', then your program should print\n",
    "\n",
    "# Number of times bob occurs is: 8 Assume s is a string of lower case characters.\n",
    "\n",
    "\n",
    "\n",
    "s = 'ebobboboboobooobbobobobobooxobobodz'\n",
    "\n",
    "word = \"bob\"\n",
    "\n",
    "bob_count = 0\n",
    "\n",
    "index = 0\n",
    "\n",
    "for index, letter in enumerate(s):\n",
    "    if s[index] == \"b\":\n",
    "        if word in s[ index : (index + 3)]:\n",
    "            bob_count += 1\n",
    "print(\"Number of times bob occurs is: \", bob_count)"
   ]
  },
  {
   "cell_type": "code",
   "execution_count": 55,
   "metadata": {
    "tags": []
   },
   "outputs": [
    {
     "output_type": "stream",
     "name": "stdout",
     "text": [
      "Longest substring in alphabetical order is:  abru\n"
     ]
    }
   ],
   "source": [
    "# Write a program that prints the longest substring of s in which the letters occur in alphabetical order. For example, if s = 'azcbobobegghakl', then your program should print\n",
    "\n",
    "# Longest substring in alphabetical order is: beggh\n",
    "\n",
    "\n",
    "# In the case of ties, print the first substring. For example, if s = 'abcbcd', then your program should print\n",
    "\n",
    "# Longest substring in alphabetical order is: abc\n",
    "\n",
    "# Note: This problem may be challenging. We encourage you to work smart. If you've spent more than a few hours on this problem, we suggest that you move on to a different part of the course. If you have time, come back to this problem after you've had a break and cleared your head\n",
    "\n",
    "\n",
    "s = 'fabrugvfhgg'\n",
    "\n",
    "result = []\n",
    "\n",
    "new = []\n",
    "\n",
    "\n",
    "for index, letter in enumerate(s):\n",
    "    if index == 0:\n",
    "        result.append(s[index])\n",
    "        new += [\"\".join(result)]\n",
    "    elif index <= (len(s) - 1):\n",
    "        if s[(index)] >= s[index-1]:\n",
    "            result.append(s[index])\n",
    "            new += [\"\".join(result)]\n",
    "        elif s[index] < s[index-1]:\n",
    "                result = [s[index]]\n",
    "\n",
    "longest = max(new, key=len)  \n",
    "print(\"Longest substring in alphabetical order is: \",longest)   "
   ]
  }
 ]
}