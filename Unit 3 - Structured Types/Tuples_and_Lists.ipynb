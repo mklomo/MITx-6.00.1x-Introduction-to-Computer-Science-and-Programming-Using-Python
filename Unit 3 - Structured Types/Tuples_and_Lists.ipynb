{
 "metadata": {
  "language_info": {
   "codemirror_mode": {
    "name": "ipython",
    "version": 3
   },
   "file_extension": ".py",
   "mimetype": "text/x-python",
   "name": "python",
   "nbconvert_exporter": "python",
   "pygments_lexer": "ipython3",
   "version": "3.9.0-final"
  },
  "orig_nbformat": 2,
  "kernelspec": {
   "name": "python3",
   "display_name": "Python 3.9.0 64-bit",
   "metadata": {
    "interpreter": {
     "hash": "7812ea015bdcee6f23a998adcdd2ef97c151c0c241b7b7070987d9313e41299d"
    }
   }
  }
 },
 "nbformat": 4,
 "nbformat_minor": 2,
 "cells": [
  {
   "cell_type": "code",
   "execution_count": 42,
   "metadata": {},
   "outputs": [
    {
     "output_type": "execute_result",
     "data": {
      "text/plain": [
       "tuple"
      ]
     },
     "metadata": {},
     "execution_count": 42
    }
   ],
   "source": [
    "# Tuples\n",
    "\n",
    "te = () # An empty tuple\n",
    "\n",
    "type(te)"
   ]
  },
  {
   "cell_type": "code",
   "execution_count": 44,
   "metadata": {},
   "outputs": [
    {
     "output_type": "execute_result",
     "data": {
      "text/plain": [
       "str"
      ]
     },
     "metadata": {},
     "execution_count": 44
    }
   ],
   "source": [
    "# Tuple Indexing\n",
    "\n",
    "t = (2, \"one\", 3)\n",
    "\n",
    "type(t[1])"
   ]
  },
  {
   "cell_type": "code",
   "execution_count": 45,
   "metadata": {},
   "outputs": [
    {
     "output_type": "execute_result",
     "data": {
      "text/plain": [
       "tuple"
      ]
     },
     "metadata": {},
     "execution_count": 45
    }
   ],
   "source": [
    "# Adding tuples\n",
    "\n",
    "t = t + (5, 6)\n",
    "\n",
    "type(t)"
   ]
  },
  {
   "cell_type": "code",
   "execution_count": 13,
   "metadata": {},
   "outputs": [
    {
     "output_type": "execute_result",
     "data": {
      "text/plain": [
       "(2, 'one', 3)"
      ]
     },
     "metadata": {},
     "execution_count": 13
    }
   ],
   "source": [
    "# Further tuple indexing\n",
    "\n",
    "t[0 : 3]    # Slice tuple"
   ]
  },
  {
   "cell_type": "code",
   "execution_count": 26,
   "metadata": {},
   "outputs": [
    {
     "output_type": "execute_result",
     "data": {
      "text/plain": [
       "('one',)"
      ]
     },
     "metadata": {},
     "execution_count": 26
    }
   ],
   "source": [
    "# Further tuple indexing to produce a new tuple\n",
    "\n",
    "(t[1],)"
   ]
  },
  {
   "cell_type": "code",
   "execution_count": 21,
   "metadata": {},
   "outputs": [
    {
     "output_type": "execute_result",
     "data": {
      "text/plain": [
       "(16, 2)"
      ]
     },
     "metadata": {},
     "execution_count": 21
    }
   ],
   "source": [
    "# Returning more than one variable from a function requires a tuple\n",
    "\n",
    "def quotient_and_remainder(x,y):\n",
    "\n",
    "    \"\"\" \n",
    "    x, y = float or int\n",
    "    This function returns the quotient and remainder of x/y)\n",
    "    \"\"\"\n",
    "    q = x // y\n",
    "\n",
    "    r = x % y\n",
    "\n",
    "    return (q, r)\n",
    "\n",
    "(quot, rem) = quotient_and_remainder(50, 3)\n",
    "\n",
    "(quot, rem)"
   ]
  },
  {
   "cell_type": "code",
   "execution_count": 29,
   "metadata": {},
   "outputs": [
    {
     "output_type": "execute_result",
     "data": {
      "text/plain": [
       "(1, 7, 3)"
      ]
     },
     "metadata": {},
     "execution_count": 29
    }
   ],
   "source": [
    "# Iterating over tuples\n",
    "\n",
    "def get_data(aTuple):\n",
    "\n",
    "\n",
    "\n",
    "    num = ()\n",
    "\n",
    "    words = ()\n",
    "\n",
    "    for t in aTuple:\n",
    "        num += (t[0],)\n",
    "        if t[1] not in words:\n",
    "            words += (t[1],)\n",
    "    min_nums = min(num)\n",
    "\n",
    "    max_nums = max(num)\n",
    "\n",
    "    unique_words = len(words)\n",
    "    return (min_nums, max_nums, unique_words)\n",
    "\n",
    "\n",
    "(small, large, words) = get_data(((1, \"mine\"),\n",
    "(3, \"yours\"),\n",
    "(5, \"ours\"),\n",
    "(7, \"mine\")))\n",
    "\n",
    "(small, large, words)"
   ]
  },
  {
   "cell_type": "code",
   "execution_count": 33,
   "metadata": {},
   "outputs": [],
   "source": [
    "# Tutorial \n",
    "\n",
    "aList = [ \"one\", 2, \"three\", 4]\n",
    "\n",
    "aTuple = ( \"five\", 6, \"seven\", 8)"
   ]
  },
  {
   "cell_type": "code",
   "execution_count": 35,
   "metadata": {},
   "outputs": [
    {
     "output_type": "execute_result",
     "data": {
      "text/plain": [
       "['one', 'three']"
      ]
     },
     "metadata": {},
     "execution_count": 35
    }
   ],
   "source": [
    "# List Slicing\n",
    "\n",
    "aList[ : : -1] # Reversing a List\n",
    "\n",
    "aList[ : : 2]"
   ]
  },
  {
   "cell_type": "code",
   "execution_count": 34,
   "metadata": {},
   "outputs": [
    {
     "output_type": "execute_result",
     "data": {
      "text/plain": [
       "(8, 'seven', 6, 'five')"
      ]
     },
     "metadata": {},
     "execution_count": 34
    }
   ],
   "source": [
    "# Tuple Slicing\n",
    "\n",
    "aTuple[ : : -1]"
   ]
  },
  {
   "cell_type": "code",
   "execution_count": 36,
   "metadata": {},
   "outputs": [
    {
     "output_type": "execute_result",
     "data": {
      "text/plain": [
       "['one', 'ONE-ONE-ONE', 'three', 4]"
      ]
     },
     "metadata": {},
     "execution_count": 36
    }
   ],
   "source": [
    "# Lists are MUTABLE\n",
    "\n",
    "aList[1] = \"ONE-ONE-ONE\"\n",
    "\n",
    "aList"
   ]
  },
  {
   "cell_type": "code",
   "execution_count": 37,
   "metadata": {},
   "outputs": [
    {
     "output_type": "error",
     "ename": "TypeError",
     "evalue": "'tuple' object does not support item assignment",
     "traceback": [
      "\u001b[0;31m---------------------------------------------------------------------------\u001b[0m",
      "\u001b[0;31mTypeError\u001b[0m                                 Traceback (most recent call last)",
      "\u001b[0;32m<ipython-input-37-d8e0063cf3cd>\u001b[0m in \u001b[0;36m<module>\u001b[0;34m\u001b[0m\n\u001b[1;32m      1\u001b[0m \u001b[0;31m# Tuples are IMMUTABLE\u001b[0m\u001b[0;34m\u001b[0m\u001b[0;34m\u001b[0m\u001b[0;34m\u001b[0m\u001b[0m\n\u001b[1;32m      2\u001b[0m \u001b[0;34m\u001b[0m\u001b[0m\n\u001b[0;32m----> 3\u001b[0;31m \u001b[0maTuple\u001b[0m\u001b[0;34m[\u001b[0m\u001b[0;36m1\u001b[0m\u001b[0;34m]\u001b[0m \u001b[0;34m=\u001b[0m \u001b[0;34m\"SIX-SIX-SIX\"\u001b[0m\u001b[0;34m\u001b[0m\u001b[0;34m\u001b[0m\u001b[0m\n\u001b[0m",
      "\u001b[0;31mTypeError\u001b[0m: 'tuple' object does not support item assignment"
     ]
    }
   ],
   "source": [
    "# Tuples are IMMUTABLE\n",
    "\n",
    "aTuple[1] = \"SIX-SIX-SIX\""
   ]
  },
  {
   "cell_type": "code",
   "execution_count": 39,
   "metadata": {},
   "outputs": [
    {
     "output_type": "execute_result",
     "data": {
      "text/plain": [
       "3"
      ]
     },
     "metadata": {},
     "execution_count": 39
    }
   ],
   "source": [
    "c  = [(1, 2, 3), \"Week 3\", 6.453, [[1, 2, 3, 4], 5], 678, [True, False]]\n",
    "\n",
    "# In the third element of the list, select the first element then choose the index 2\n",
    "\n",
    "c[3][0][2]"
   ]
  },
  {
   "cell_type": "code",
   "execution_count": 41,
   "metadata": {},
   "outputs": [
    {
     "output_type": "execute_result",
     "data": {
      "text/plain": [
       "[1, 2, 3, 4]"
      ]
     },
     "metadata": {},
     "execution_count": 41
    }
   ],
   "source": [
    "c[3][0]"
   ]
  },
  {
   "cell_type": "code",
   "execution_count": 42,
   "metadata": {},
   "outputs": [
    {
     "output_type": "execute_result",
     "data": {
      "text/plain": [
       "[[True, False], [[1, 2, 3, 4], 5]]"
      ]
     },
     "metadata": {},
     "execution_count": 42
    }
   ],
   "source": [
    "c[ : 1 : -2]"
   ]
  },
  {
   "cell_type": "code",
   "execution_count": 43,
   "metadata": {},
   "outputs": [
    {
     "output_type": "stream",
     "name": "stdout",
     "text": [
      "(1, 2, 3, 4, 5)\n"
     ]
    }
   ],
   "source": [
    "# Tutorial: Returning several values from a function: Behind the Scenes\n",
    "\n",
    "def returnArgsAsTuple(*itemsTuple):\n",
    "\n",
    "    print(itemsTuple)\n",
    "\n",
    "returnArgsAsTuple(1,2,3,4,5)"
   ]
  },
  {
   "cell_type": "code",
   "execution_count": 46,
   "metadata": {},
   "outputs": [
    {
     "output_type": "stream",
     "name": "stdout",
     "text": [
      "Zebra\nLion\nAnt\n"
     ]
    }
   ],
   "source": [
    "# Tutorial: Iterating over Lists and Tuples\n",
    "\n",
    "for animal in [\"Zebra\", \"Lion\", \"Ant\"]:\n",
    "\n",
    "    print(animal)"
   ]
  },
  {
   "cell_type": "code",
   "execution_count": 47,
   "metadata": {},
   "outputs": [
    {
     "output_type": "stream",
     "name": "stdout",
     "text": [
      "Zebra\nLion\nAnt\n"
     ]
    }
   ],
   "source": [
    "# Tutorial: Iterating over Lists and Tuples\n",
    "\n",
    "for animal in (\"Zebra\", \"Lion\", \"Ant\"):\n",
    "\n",
    "    print(animal)"
   ]
  },
  {
   "cell_type": "code",
   "execution_count": 1,
   "metadata": {},
   "outputs": [
    {
     "output_type": "execute_result",
     "data": {
      "text/plain": [
       "'i'"
      ]
     },
     "metadata": {},
     "execution_count": 1
    }
   ],
   "source": [
    "# Self Check\n",
    "\n",
    "x = (1, 2, (3, 'John', 4), 'Hi')\n",
    "\n",
    "x[-1][-1]"
   ]
  },
  {
   "cell_type": "code",
   "execution_count": 2,
   "metadata": {},
   "outputs": [
    {
     "output_type": "execute_result",
     "data": {
      "text/plain": [
       "(1,)"
      ]
     },
     "metadata": {},
     "execution_count": 2
    }
   ],
   "source": [
    "# Self Check\n",
    "\n",
    "x[0 : 1]"
   ]
  },
  {
   "cell_type": "code",
   "execution_count": 3,
   "metadata": {},
   "outputs": [
    {
     "output_type": "execute_result",
     "data": {
      "text/plain": [
       "(1, 2, (3, 'John', 4))"
      ]
     },
     "metadata": {},
     "execution_count": 3
    }
   ],
   "source": [
    "# Self Check\n",
    "\n",
    "x[0 : -1]"
   ]
  },
  {
   "cell_type": "code",
   "execution_count": 59,
   "metadata": {},
   "outputs": [
    {
     "output_type": "execute_result",
     "data": {
      "text/plain": [
       "('I', 'a', 'tuple')"
      ]
     },
     "metadata": {},
     "execution_count": 59
    }
   ],
   "source": [
    "# Write a procedure called oddTuples, which takes a tuple as input, and returns a new tuple as output, where every other element of the input tuple is copied, starting with the first one. So if test is the tuple ('I', 'am', 'a', 'test', 'tuple'), then evaluating oddTuples on this input would return the tuple ('I', 'a', 'tuple')\n",
    "\n",
    "\n",
    "def oddTuples(aTup):\n",
    "    '''\n",
    "    aTup: a tuple\n",
    "    \n",
    "    returns: tuple, every other element of aTup. \n",
    "    '''\n",
    "    tup_length = len(aTup)\n",
    "\n",
    "    aList = [i for i in range(len(aTup)) if i % 2 == 0]\n",
    "\n",
    "    result = ()\n",
    "\n",
    "    for odd in aList:\n",
    "        result +=  (aTup[odd],) # Only a Tuple if comma is present after indexing\n",
    "\n",
    "    return result\n",
    "\n",
    "\n",
    "    \n",
    "\n",
    "\n",
    "oddTuples(('I', 'am', 'a', 'test', 'tuple'))    \n"
   ]
  },
  {
   "cell_type": "code",
   "execution_count": 41,
   "metadata": {},
   "outputs": [
    {
     "output_type": "execute_result",
     "data": {
      "text/plain": [
       "str"
      ]
     },
     "metadata": {},
     "execution_count": 41
    }
   ],
   "source": [
    "x = ('I', 'am', 'a', 'test', 'tuple')\n",
    "\n",
    "t = [i for i in range(len(x)) if i % 2 == 0]\n",
    "\n",
    "type(x[0],)\n",
    "\n"
   ]
  },
  {
   "cell_type": "code",
   "execution_count": 57,
   "metadata": {},
   "outputs": [
    {
     "output_type": "execute_result",
     "data": {
      "text/plain": [
       "(2, 'one', 5)"
      ]
     },
     "metadata": {},
     "execution_count": 57
    }
   ],
   "source": [
    "result = ()\n",
    "\n",
    "for odd in [0, 1, 3]:\n",
    "    result += (t[odd],)\n",
    "\n",
    "result"
   ]
  },
  {
   "cell_type": "code",
   "execution_count": 53,
   "metadata": {},
   "outputs": [
    {
     "output_type": "execute_result",
     "data": {
      "text/plain": [
       "(2,)"
      ]
     },
     "metadata": {},
     "execution_count": 53
    }
   ],
   "source": [
    "p = () + (t[0],)\n",
    "p"
   ]
  },
  {
   "cell_type": "code",
   "execution_count": 68,
   "metadata": {},
   "outputs": [
    {
     "output_type": "stream",
     "name": "stdout",
     "text": [
      "15\n"
     ]
    }
   ],
   "source": [
    "# Lists\n",
    "\n",
    "aList = [2, 4, 9, 0]\n",
    "\n",
    "total = 0\n",
    "\n",
    "for i in aList:\n",
    "    total += i\n",
    "\n",
    "\n",
    "print(total)"
   ]
  },
  {
   "cell_type": "code",
   "execution_count": 69,
   "metadata": {},
   "outputs": [
    {
     "output_type": "execute_result",
     "data": {
      "text/plain": [
       "[2, 4, 9, 0, [50000, 10]]"
      ]
     },
     "metadata": {},
     "execution_count": 69
    }
   ],
   "source": [
    "# Append something to the end of a list\n",
    "\n",
    "aList.append([50000, 10])\n",
    "\n",
    "aList   # This adds exactly what is specified to the end of the list as typed"
   ]
  },
  {
   "cell_type": "code",
   "execution_count": 72,
   "metadata": {},
   "outputs": [
    {
     "output_type": "execute_result",
     "data": {
      "text/plain": [
       "[9, 6, 2, 9, 2, 6]"
      ]
     },
     "metadata": {},
     "execution_count": 72
    }
   ],
   "source": [
    "# Extending a List\n",
    "\n",
    "aList_2 = [9, 6, 2]\n",
    "\n",
    "aList_2.extend([9, 2, 6])\n",
    "\n",
    "aList_2"
   ]
  },
  {
   "cell_type": "code",
   "execution_count": 73,
   "metadata": {},
   "outputs": [
    {
     "output_type": "execute_result",
     "data": {
      "text/plain": [
       "[9, 6, 9, 2, 6]"
      ]
     },
     "metadata": {},
     "execution_count": 73
    }
   ],
   "source": [
    "# Deleting an element from a List\n",
    "\n",
    "del(aList_2[2])\n",
    "\n",
    "aList_2"
   ]
  },
  {
   "cell_type": "code",
   "execution_count": 74,
   "metadata": {},
   "outputs": [
    {
     "output_type": "execute_result",
     "data": {
      "text/plain": [
       "[6, 9, 2, 6]"
      ]
     },
     "metadata": {},
     "execution_count": 74
    }
   ],
   "source": [
    "# Removing an element from a list\n",
    "\n",
    "aList_2.remove(9)   # This removes the first occurrence of 9 from the list\n",
    "\n",
    "aList_2"
   ]
  },
  {
   "cell_type": "code",
   "execution_count": 75,
   "metadata": {},
   "outputs": [
    {
     "output_type": "execute_result",
     "data": {
      "text/plain": [
       "6"
      ]
     },
     "metadata": {},
     "execution_count": 75
    }
   ],
   "source": [
    "# Using the pop remove and report the last element from the list\n",
    "\n",
    "aList_2.pop()"
   ]
  },
  {
   "cell_type": "code",
   "execution_count": 76,
   "metadata": {},
   "outputs": [
    {
     "output_type": "execute_result",
     "data": {
      "text/plain": [
       "[6, 9, 2]"
      ]
     },
     "metadata": {},
     "execution_count": 76
    }
   ],
   "source": [
    "aList_2"
   ]
  },
  {
   "cell_type": "code",
   "execution_count": 77,
   "metadata": {},
   "outputs": [
    {
     "output_type": "execute_result",
     "data": {
      "text/plain": [
       "['s', 'f', 'j', 'n', 'f', 'j', 'i']"
      ]
     },
     "metadata": {},
     "execution_count": 77
    }
   ],
   "source": [
    "# Converting a String to a List\n",
    "\n",
    "s = \"sfjnfji\"\n",
    "\n",
    "aList_3 = list(s)\n",
    "\n",
    "aList_3"
   ]
  },
  {
   "cell_type": "code",
   "execution_count": 87,
   "metadata": {},
   "outputs": [
    {
     "output_type": "execute_result",
     "data": {
      "text/plain": [
       "\"I_love_Python_because_its's_easy_to_use\""
      ]
     },
     "metadata": {},
     "execution_count": 87
    }
   ],
   "source": [
    "# Splitting strings into a list based on a character\n",
    "\n",
    "s = \"I love Python because its's easy to use\"\n",
    "\n",
    "aList_4 = s.split(\" \") # Split the \n",
    "\n",
    "aList_5 = \"_\".join(aList_4) # Join the elements of the aList_4 into a string separated by \"_\"\n",
    "\n",
    "aList_5"
   ]
  },
  {
   "cell_type": "code",
   "execution_count": 98,
   "metadata": {},
   "outputs": [
    {
     "output_type": "execute_result",
     "data": {
      "text/plain": [
       "[4, 3, 6, 1, 4, 4, 1, 0, 100]"
      ]
     },
     "metadata": {},
     "execution_count": 98
    }
   ],
   "source": [
    "L = [100, 0, 1, 4, 4, 1, 6, 3, 4]\n",
    "\n",
    "L.reverse()\n",
    "\n",
    "L\n"
   ]
  },
  {
   "cell_type": "code",
   "execution_count": 101,
   "metadata": {},
   "outputs": [
    {
     "output_type": "execute_result",
     "data": {
      "text/plain": [
       "False"
      ]
     },
     "metadata": {},
     "execution_count": 101
    }
   ],
   "source": [
    "cList = [6, 5, 4, 3, 2]\n",
    "dList = []\n",
    "for num in cList:\n",
    "    dList.append(num)\n",
    "\n",
    "cList is dList"
   ]
  },
  {
   "cell_type": "code",
   "execution_count": 3,
   "metadata": {},
   "outputs": [
    {
     "output_type": "execute_result",
     "data": {
      "text/plain": [
       "[1, 2, 3]"
      ]
     },
     "metadata": {},
     "execution_count": 3
    }
   ],
   "source": [
    "# Apply to each\n",
    "\n",
    "def apply_to_each(aList, afunction):\n",
    "    \"\"\"\n",
    "    Takes a function and applies that to each element in the list\n",
    "    \"\"\"\n",
    "    for i in range(len(aList)):\n",
    "        aList[i] = afunction(aList[i])\n",
    "    return aList\n",
    "\n",
    "apply_to_each([-1, 2 , -3], abs)"
   ]
  },
  {
   "cell_type": "code",
   "execution_count": 4,
   "metadata": {},
   "outputs": [],
   "source": [
    "# Apply a list of functions to a number\n",
    "\n",
    "def apply_Funcs(aList, x):\n",
    "    \"\"\"\n",
    "    Apply a list of functions to a list\n",
    "    \"\"\"\n",
    "    for f in aList:\n",
    "        print(f(x))"
   ]
  },
  {
   "cell_type": "code",
   "execution_count": 5,
   "metadata": {},
   "outputs": [
    {
     "output_type": "execute_result",
     "data": {
      "text/plain": [
       "<map at 0x7fa579df0fa0>"
      ]
     },
     "metadata": {},
     "execution_count": 5
    }
   ],
   "source": [
    "# Generalization of HOPS\n",
    "\n",
    "map(abs, [-2, -4, -100]) # Produces an iterable so we can walkthrough"
   ]
  },
  {
   "cell_type": "code",
   "execution_count": 8,
   "metadata": {},
   "outputs": [
    {
     "output_type": "stream",
     "name": "stdout",
     "text": [
      "[2, 4, 100]\n"
     ]
    }
   ],
   "source": [
    "# Generalization of HOPS\n",
    "\n",
    "aList = []\n",
    "\n",
    "for elt in map(abs, [-2, -4, -100]):\n",
    "    aList.append(elt)\n",
    "print(aList)"
   ]
  },
  {
   "cell_type": "code",
   "execution_count": 10,
   "metadata": {},
   "outputs": [
    {
     "output_type": "stream",
     "name": "stdout",
     "text": [
      "[6, 3, 2]\n"
     ]
    }
   ],
   "source": [
    "# General form of map\n",
    "\n",
    "aList = []\n",
    "\n",
    "aList_1 = [12, 3, 40]\n",
    "\n",
    "aList_2 = [6, 10, 2]\n",
    "\n",
    "\n",
    "for elt in map(min, aList_1, aList_2):\n",
    "    \"\"\"\n",
    "    Select the minimum of the matching element in the 2 lists\n",
    "    \"\"\"\n",
    "    aList.append(elt)\n",
    "\n",
    "print(aList)\n"
   ]
  },
  {
   "cell_type": "code",
   "execution_count": 5,
   "metadata": {},
   "outputs": [
    {
     "output_type": "stream",
     "name": "stdout",
     "text": [
      "[1, 16, 64, 81]\n"
     ]
    }
   ],
   "source": [
    "def applyToEach(L, f):\n",
    "    for i in range(len(L)):\n",
    "        L[i] = f(L[i])\n",
    "\n",
    "\n",
    "testList = [1, -4, 8, -9]\n",
    "\n",
    "\n",
    "def add_one(x):\n",
    "    return x**2\n",
    "\n",
    "applyToEach(testList, add_one)\n",
    "print(testList)\n"
   ]
  },
  {
   "cell_type": "code",
   "execution_count": 7,
   "metadata": {},
   "outputs": [
    {
     "output_type": "execute_result",
     "data": {
      "text/plain": [
       "[0, 2, 4, 6, 8, 10, 12, 14]"
      ]
     },
     "metadata": {},
     "execution_count": 7
    }
   ],
   "source": [
    "# List comprehension\n",
    "\n",
    "aList_1 = [i for i in range(15) if i % 2 == 0]\n",
    "\n",
    "aList_1"
   ]
  },
  {
   "cell_type": "code",
   "execution_count": 8,
   "metadata": {},
   "outputs": [
    {
     "output_type": "execute_result",
     "data": {
      "text/plain": [
       "[56]"
      ]
     },
     "metadata": {},
     "execution_count": 8
    }
   ],
   "source": [
    "# More on List comprehension\n",
    "\n",
    "names_Dict = {\"Nora\" : 56, \"Lulu\" : 89, \"Gino\" : 31}\n",
    "\n",
    "\n",
    "[ value for value in names_Dict.values() if value % 2 == 0 ]"
   ]
  },
  {
   "cell_type": "code",
   "execution_count": null,
   "metadata": {},
   "outputs": [],
   "source": []
  }
 ]
}