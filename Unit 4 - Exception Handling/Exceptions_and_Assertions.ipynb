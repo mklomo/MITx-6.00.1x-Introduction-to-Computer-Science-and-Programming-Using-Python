{
 "metadata": {
  "language_info": {
   "codemirror_mode": {
    "name": "ipython",
    "version": 3
   },
   "file_extension": ".py",
   "mimetype": "text/x-python",
   "name": "python",
   "nbconvert_exporter": "python",
   "pygments_lexer": "ipython3",
   "version": "3.9.0-final"
  },
  "orig_nbformat": 2,
  "kernelspec": {
   "name": "python3",
   "display_name": "Python 3.9.0 64-bit",
   "metadata": {
    "interpreter": {
     "hash": "7812ea015bdcee6f23a998adcdd2ef97c151c0c241b7b7070987d9313e41299d"
    }
   }
  }
 },
 "nbformat": 4,
 "nbformat_minor": 2,
 "cells": [
  {
   "cell_type": "code",
   "execution_count": 3,
   "metadata": {},
   "outputs": [
    {
     "output_type": "stream",
     "name": "stdout",
     "text": [
      "Bug in user input\nDone!\n"
     ]
    }
   ],
   "source": [
    "# Exception Hnadling\n",
    "\n",
    "try:\n",
    "    a = int(input(\"Tellme one number: \"))\n",
    "    b = int(input(\"Tell me another number: \"))\n",
    "    print(a/b)\n",
    "    print(\"okay\")\n",
    "\n",
    "except:\n",
    "    print(\"Bug in user input\")\n",
    "\n",
    "print(\"Done!\")"
   ]
  },
  {
   "cell_type": "code",
   "execution_count": null,
   "metadata": {},
   "outputs": [],
   "source": [
    "# Having separate exception clauses\n",
    "\n",
    "try:\n",
    "    a = int(input(\"Tell me a number: \"))\n",
    "\n",
    "    b = int(input(\"Tell me another number: \"))\n",
    "\n",
    "    print(\"a/b =\", a/b)\n",
    "    print(\"a+b =\", a+b)\n",
    "# This catches casting error\n",
    "except ValueError:\n",
    "    print(\"Could not convert to a number\")\n",
    "# This catches zero division error\n",
    "except ZeroDivisionError:\n",
    "    print(\"Can't Divide by zero\")\n",
    "# This catches all other errors\n",
    "except:\n",
    "    print(\"Something went very wrong\")\n"
   ]
  },
  {
   "cell_type": "code",
   "execution_count": 4,
   "metadata": {},
   "outputs": [
    {
     "output_type": "stream",
     "name": "stdout",
     "text": [
      "cannot open \n"
     ]
    }
   ],
   "source": [
    "# Control Input\n",
    "\n",
    "data = []\n",
    "\n",
    "file_name = input(\"Provide a name of a file of data: \")\n",
    "\n",
    "try:\n",
    "    fh = open(file_name, \"r\")\n",
    "except IOError:\n",
    "    print(\"cannot open\", file_name)\n",
    "\n",
    "else:\n",
    "    for new in fh:\n",
    "        if new != \"\\n\":\n",
    "            addIt = new[:-1].split(\",\")\n",
    "            data.append(addIt)\n",
    "\n",
    "finally:\n",
    "    fh.close()\n",
    "\n",
    "\n"
   ]
  },
  {
   "cell_type": "code",
   "execution_count": 5,
   "metadata": {},
   "outputs": [
    {
     "output_type": "stream",
     "name": "stdout",
     "text": [
      "cannot open \n"
     ]
    },
    {
     "output_type": "error",
     "ename": "NameError",
     "evalue": "name 'fh' is not defined",
     "traceback": [
      "\u001b[0;31m---------------------------------------------------------------------------\u001b[0m",
      "\u001b[0;31mNameError\u001b[0m                                 Traceback (most recent call last)",
      "\u001b[0;32m<ipython-input-5-67b79760c845>\u001b[0m in \u001b[0;36m<module>\u001b[0;34m\u001b[0m\n\u001b[1;32m     17\u001b[0m \u001b[0;34m\u001b[0m\u001b[0m\n\u001b[1;32m     18\u001b[0m \u001b[0;32mfinally\u001b[0m\u001b[0;34m:\u001b[0m\u001b[0;34m\u001b[0m\u001b[0;34m\u001b[0m\u001b[0m\n\u001b[0;32m---> 19\u001b[0;31m     \u001b[0mfh\u001b[0m\u001b[0;34m.\u001b[0m\u001b[0mclose\u001b[0m\u001b[0;34m(\u001b[0m\u001b[0;34m)\u001b[0m\u001b[0;34m\u001b[0m\u001b[0;34m\u001b[0m\u001b[0m\n\u001b[0m\u001b[1;32m     20\u001b[0m \u001b[0;34m\u001b[0m\u001b[0m\n\u001b[1;32m     21\u001b[0m \u001b[0;34m\u001b[0m\u001b[0m\n",
      "\u001b[0;31mNameError\u001b[0m: name 'fh' is not defined"
     ]
    }
   ],
   "source": [
    "# Control Input\n",
    "\n",
    "data = []\n",
    "\n",
    "file_name = input(\"Provide a name of a file of data: \")\n",
    "\n",
    "try:\n",
    "    fh = open(file_name, \"r\")\n",
    "except IOError:\n",
    "    print(\"cannot open\", file_name)\n",
    "\n",
    "else:\n",
    "    for new in fh:\n",
    "        if new != \"\\n\":\n",
    "            addIt = new[:-1].split(\",\")\n",
    "            data.append(addIt)\n",
    "\n",
    "finally:\n",
    "    fh.close()\n",
    "\n",
    "\n",
    "grades_Data = []\n",
    "\n",
    "if data:\n",
    "    for student in data:\n",
    "        try:\n",
    "            name = student[0:-1]\n",
    "            grades = int(student[-1])\n",
    "            grades_Data.append(name, grades)\n",
    "        except ValueError:\n",
    "            grades_Data.append([student[:], []])\n"
   ]
  },
  {
   "cell_type": "code",
   "execution_count": 8,
   "metadata": {},
   "outputs": [
    {
     "output_type": "execute_result",
     "data": {
      "text/plain": [
       "[nan, 0.5]"
      ]
     },
     "metadata": {},
     "execution_count": 8
    }
   ],
   "source": [
    "# Raising an Exception\n",
    "\n",
    "def get_ratios(L1, L2):\n",
    "    \"\"\"\n",
    "    Assumes: L1 and L2 are lists of equal length \n",
    "    Returns: a list containing L1[i]/L2[i]\n",
    "    \"\"\"\n",
    "    ratios = []\n",
    "    for i in range(len(L1)):\n",
    "        try:\n",
    "            ratios.append(L1[i]/float(L2[i]))\n",
    "\n",
    "        except ZeroDivisionError:\n",
    "            ratios.append(float(\"NaN\"))\n",
    "        except:\n",
    "            raise ValueError(\"get_ratios called with bad arg\")\n",
    "    return ratios\n",
    "\n",
    "\n",
    "get_ratios([1,2], [0,4])\n"
   ]
  },
  {
   "cell_type": "code",
   "execution_count": 10,
   "metadata": {},
   "outputs": [],
   "source": [
    "def simple_divide(item, denom):\n",
    "\n",
    "    \"\"\"\n",
    "    Receives two integers item and denom and returns item / denom\n",
    "    \"\"\"\n",
    "    try:\n",
    "        ans = item / float(denom)\n",
    "        return ans\n",
    "    except ZeroDivisionError:\n",
    "        ans = 0\n",
    "        return ans\n",
    "\n",
    "\n",
    "def fancy_divide(list_of_numbers, index):\n",
    "   denom = list_of_numbers[index]\n",
    "   return [simple_divide(item, denom) for item in list_of_numbers]\n",
    "    "
   ]
  },
  {
   "cell_type": "code",
   "execution_count": 11,
   "metadata": {},
   "outputs": [
    {
     "output_type": "execute_result",
     "data": {
      "text/plain": [
       "[0, 0, 0]"
      ]
     },
     "metadata": {},
     "execution_count": 11
    }
   ],
   "source": [
    "def normalize(numbers):\n",
    "    max_number = max(numbers)\n",
    "    assert(max_number != 0), \"Cannot divide by 0\"\n",
    "    for i in range(len(numbers)):\n",
    "        numbers[i]  /= float(max_number)\n",
    "        assert(0.0 <= numbers[i] <= 1.0), \"output not between 0 and 1\"\n",
    "    return numbers   \n",
    "\n",
    "normalize([0, 0, 0])"
   ]
  },
  {
   "cell_type": "code",
   "execution_count": null,
   "metadata": {},
   "outputs": [],
   "source": []
  }
 ]
}