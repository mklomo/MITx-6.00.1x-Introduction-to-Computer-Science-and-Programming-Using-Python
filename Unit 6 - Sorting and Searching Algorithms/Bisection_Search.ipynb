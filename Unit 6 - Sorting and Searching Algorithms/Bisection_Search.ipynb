{
 "metadata": {
  "language_info": {
   "codemirror_mode": {
    "name": "ipython",
    "version": 3
   },
   "file_extension": ".py",
   "mimetype": "text/x-python",
   "name": "python",
   "nbconvert_exporter": "python",
   "pygments_lexer": "ipython3",
   "version": "3.9.0"
  },
  "orig_nbformat": 2,
  "kernelspec": {
   "name": "python3",
   "display_name": "Python 3.9.0 64-bit",
   "metadata": {
    "interpreter": {
     "hash": "7812ea015bdcee6f23a998adcdd2ef97c151c0c241b7b7070987d9313e41299d"
    }
   }
  }
 },
 "nbformat": 4,
 "nbformat_minor": 2,
 "cells": [
  {
   "cell_type": "code",
   "execution_count": 1,
   "metadata": {},
   "outputs": [],
   "source": [
    "# Implementation_1 - recursive \n",
    "\n",
    "def bisection_search(L, e):\n",
    "    if L == []:\n",
    "        return False\n",
    "\n",
    "    elif len(L) == 1:\n",
    "        return L[0] == e \n",
    "\n",
    "    else:\n",
    "        half = len(L) // 2\n",
    "        if L[half] > e:\n",
    "            return bisection_search( L[ : half], e)\n",
    "        \n",
    "        else:\n",
    "            return bisection_search( L[ half : ], e)"
   ]
  },
  {
   "cell_type": "code",
   "execution_count": 8,
   "metadata": {},
   "outputs": [],
   "source": [
    "# Implementation 2\n",
    "\n",
    "def bisect_search(L, e):\n",
    "\n",
    "    def bisect_search_helper(L, e, low, high):\n",
    "        if high == low:\n",
    "            return L[low] == e\n",
    "        mid = (low + high) // 2\n",
    "        if L[mid] == e:\n",
    "            return True\n",
    "        \n",
    "        elif L[mid] > e:\n",
    "            if low == mid: # Nothing else left to search\n",
    "                return False\n",
    "            else:\n",
    "                return bisect_search_helper(L, e, low, mid - 1)\n",
    "        else:\n",
    "            return bisect_search_helper(L, e, mid + 1, high)\n",
    "\n",
    "    if len(L) == 0:\n",
    "        return False\n",
    "\n",
    "    else:\n",
    "        return bisect_search_helper(L, e, 0, len(L)-1)"
   ]
  },
  {
   "cell_type": "code",
   "execution_count": 9,
   "metadata": {},
   "outputs": [
    {
     "output_type": "execute_result",
     "data": {
      "text/plain": [
       "False"
      ]
     },
     "metadata": {},
     "execution_count": 9
    }
   ],
   "source": [
    "test_List = [1, 2, 3, 5, 7, 9, 18, 27]\n",
    "\n",
    "bisection_search(test_List, 15)"
   ]
  },
  {
   "cell_type": "code",
   "execution_count": 10,
   "metadata": {},
   "outputs": [
    {
     "output_type": "execute_result",
     "data": {
      "text/plain": [
       "True"
      ]
     },
     "metadata": {},
     "execution_count": 10
    }
   ],
   "source": [
    "bisect_search(test_List, 18)"
   ]
  },
  {
   "cell_type": "code",
   "execution_count": 15,
   "metadata": {},
   "outputs": [],
   "source": [
    "# Selection Sort\n",
    "\n",
    "def selection_sort(L):\n",
    "    suffixSt = 0\n",
    "    while suffixSt != len(L):\n",
    "        for i in range(suffixSt, len(L)):\n",
    "            if L[i] < L[suffixSt]:\n",
    "                L[suffixSt], L[i] = L[i], L[suffixSt]\n",
    "        suffixSt += 1\n"
   ]
  },
  {
   "cell_type": "code",
   "execution_count": 17,
   "metadata": {},
   "outputs": [],
   "source": [
    "test_List = [90,3,89,56, 0, 67]\n",
    "\n",
    "selection_sort(test_List)"
   ]
  },
  {
   "cell_type": "code",
   "execution_count": 18,
   "metadata": {},
   "outputs": [
    {
     "output_type": "execute_result",
     "data": {
      "text/plain": [
       "[0, 3, 56, 67, 89, 90]"
      ]
     },
     "metadata": {},
     "execution_count": 18
    }
   ],
   "source": [
    "test_List"
   ]
  },
  {
   "cell_type": "code",
   "execution_count": 19,
   "metadata": {},
   "outputs": [],
   "source": [
    "# Implementing the merge sort algorithm\n",
    "\n",
    "def merge_sort(L):\n",
    "    if len(L) < 2:\n",
    "        return L[:]\n",
    "\n",
    "    else:\n",
    "        middle = len(L)//2\n",
    "        left = merge_sort(L[: middle])\n",
    "        right = merge_sort(L[middle: ])\n",
    "        return merge(left, right)"
   ]
  },
  {
   "cell_type": "code",
   "execution_count": 26,
   "metadata": {},
   "outputs": [],
   "source": [
    "def isPalindrome(aString):\n",
    "    '''\n",
    "    aString: a string\n",
    "    '''\n",
    "    def to_chars(aString):\n",
    "        aString = aString.lower()\n",
    "        letters = \"\"\n",
    "        for c in aString:\n",
    "            if c in \"abcdefghijklmnopqrstuvwxyz\":\n",
    "                letters += c\n",
    "        return letters\n",
    "\n",
    "    def is_pal(aString):\n",
    "        if len(aString) <= 1:\n",
    "            return True\n",
    "\n",
    "        elif aString[0] == aString[-1] and is_pal(aString[1:-1]):\n",
    "            return True\n",
    "\n",
    "        else:\n",
    "            return False\n",
    "    return is_pal(to_chars(aString))    "
   ]
  },
  {
   "cell_type": "code",
   "execution_count": 28,
   "metadata": {},
   "outputs": [
    {
     "output_type": "execute_result",
     "data": {
      "text/plain": [
       "False"
      ]
     },
     "metadata": {},
     "execution_count": 28
    }
   ],
   "source": [
    "isPalindrome(\"doGood\")"
   ]
  },
  {
   "cell_type": "code",
   "execution_count": 53,
   "metadata": {},
   "outputs": [],
   "source": [
    "def largest_odd_times(L):\n",
    "    \"\"\" Assumes L is a non-empty list of ints\n",
    "        Returns the largest element of L that occurs an odd number \n",
    "        of times in L. If no such element exists, returns None \"\"\"\n",
    "\n",
    "        # Sort the entries of L\n",
    "    L.sort()\n",
    "    # Lets count the number of times each element occurs L\n",
    "    aDict = {}\n",
    "    for i in L:\n",
    "        if i not in aDict:\n",
    "            aDict[i] = 1\n",
    "\n",
    "        else:\n",
    "            aDict[i] += 1\n",
    "\n",
    "    # Lets use Dictionary comprehension\n",
    "    result = []\n",
    "    for key, value in aDict.items():\n",
    "        if value %2 != 0:\n",
    "            result.append(key)\n",
    "\n",
    "    if len(result) == 0:\n",
    "        return\n",
    "\n",
    "    else:\n",
    "        result.sort()\n",
    "        return result[-1]\n",
    "\n",
    "        "
   ]
  },
  {
   "cell_type": "code",
   "execution_count": 57,
   "metadata": {},
   "outputs": [],
   "source": [
    "# You are given a dictionary aDict that maps integer keys to integer values. Write a Python function that returns a list of keys in aDict that map to dictionary values that appear exactly once in aDict.\n",
    "\n",
    "# This function takes in a dictionary and returns a list.\n",
    "# Return the list of keys in increasing order.\n",
    "# If aDict does not contain any values appearing exactly once, return an empty list.\n",
    "# If aDict is empty, return an empty list\n",
    "\n",
    "\n",
    "def uniqueValues(aDict):\n",
    "    '''\n",
    "    aDict: a dictionary\n",
    "    returns: a sorted list of keys that map to unique aDict values, empty list if none\n",
    "    ''' \n",
    "    val_Count_Dict = {}\n",
    "    for i in aDict.values():\n",
    "        val_Count_Dict.setdefault(i,0)\n",
    "        val_Count_Dict[i] += 1\n",
    "        \n",
    "    return sorted([k for k,v in aDict.items() if val_Count_Dict[v] == 1])\n",
    "    \n",
    "    "
   ]
  }
 ]
}