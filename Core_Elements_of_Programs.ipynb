{
 "metadata": {
  "language_info": {
   "codemirror_mode": {
    "name": "ipython",
    "version": 3
   },
   "file_extension": ".py",
   "mimetype": "text/x-python",
   "name": "python",
   "nbconvert_exporter": "python",
   "pygments_lexer": "ipython3",
   "version": "3.9.0-final"
  },
  "orig_nbformat": 2,
  "kernelspec": {
   "name": "python3",
   "display_name": "Python 3.9.0 64-bit",
   "metadata": {
    "interpreter": {
     "hash": "7812ea015bdcee6f23a998adcdd2ef97c151c0c241b7b7070987d9313e41299d"
    }
   }
  }
 },
 "nbformat": 4,
 "nbformat_minor": 2,
 "cells": [
  {
   "cell_type": "code",
   "execution_count": 1,
   "metadata": {},
   "outputs": [
    {
     "output_type": "stream",
     "name": "stdout",
     "text": [
      "24\n"
     ]
    }
   ],
   "source": [
    "# An accumulator with for loops\n",
    "\n",
    "\n",
    "my_sum = 0\n",
    "\n",
    "for i in range(7, 10):\n",
    "    my_sum += i\n",
    "\n",
    "print(my_sum)"
   ]
  },
  {
   "cell_type": "code",
   "execution_count": 2,
   "metadata": {},
   "outputs": [
    {
     "output_type": "stream",
     "name": "stdout",
     "text": [
      "21\n"
     ]
    }
   ],
   "source": [
    "# An accumulator with for loops\n",
    "\n",
    "\n",
    "my_sum = 0\n",
    "\n",
    "for i in range(5, 11, 2):\n",
    "    my_sum += i\n",
    "\n",
    "print(my_sum) # sum of 5, 7 and 9"
   ]
  },
  {
   "cell_type": "code",
   "execution_count": 5,
   "metadata": {},
   "outputs": [
    {
     "output_type": "stream",
     "name": "stdout",
     "text": [
      "15\n"
     ]
    }
   ],
   "source": [
    "# An accumulator with for loops with break statement\n",
    "\n",
    "\n",
    "my_sum = 0\n",
    "\n",
    "for i in range(7, 10):\n",
    "    my_sum += i\n",
    "    if my_sum == 15:\n",
    "        break\n",
    "\n",
    "print(my_sum)"
   ]
  },
  {
   "cell_type": "code",
   "execution_count": 6,
   "metadata": {},
   "outputs": [
    {
     "output_type": "stream",
     "name": "stdout",
     "text": [
      "10\n9\n8\n7\nBreaking out of loop\nOutside of loop\n"
     ]
    }
   ],
   "source": [
    "# Self Check\n",
    "\n",
    "num = 10\n",
    "while True:\n",
    "    if num < 7:\n",
    "        print('Breaking out of loop')\n",
    "        break\n",
    "    print(num)\n",
    "    num -= 1\n",
    "print('Outside of loop')"
   ]
  },
  {
   "cell_type": "code",
   "execution_count": 7,
   "metadata": {},
   "outputs": [],
   "source": [
    "# Self Check\n",
    "num = 100\n",
    "while not False:\n",
    "    if num < 0:\n",
    "        break\n",
    "print('num is: ' + str(num)) "
   ]
  },
  {
   "cell_type": "code",
   "execution_count": 5,
   "metadata": {},
   "outputs": [
    {
     "output_type": "stream",
     "name": "stdout",
     "text": [
      "2\n4\n6\n8\n10\nGoodbye!\n"
     ]
    }
   ],
   "source": [
    "# Self Check\n",
    "\n",
    "i = 0\n",
    "\n",
    "while i <= 10:\n",
    "    i += 2\n",
    "    print(i)\n",
    "    if i == 10:\n",
    "        print(\"Goodbye!\")\n",
    "        break\n"
   ]
  },
  {
   "cell_type": "code",
   "execution_count": 6,
   "metadata": {},
   "outputs": [
    {
     "output_type": "stream",
     "name": "stdout",
     "text": [
      "Hello!\n10\n8\n6\n4\n2\n"
     ]
    }
   ],
   "source": [
    "# Self Check\n",
    "\n",
    "i = 10\n",
    "\n",
    "while i > 0:\n",
    "    if i == 10:\n",
    "        print(\"Hello!\")\n",
    "    print(i)\n",
    "    i -=2\n"
   ]
  },
  {
   "cell_type": "code",
   "execution_count": 19,
   "metadata": {},
   "outputs": [
    {
     "output_type": "stream",
     "name": "stdout",
     "text": [
      "21\n"
     ]
    }
   ],
   "source": [
    "# Self check\n",
    "\n",
    "end = 6\n",
    "\n",
    "\n",
    "add = 0\n",
    "\n",
    "while end != -1:\n",
    "    add += end\n",
    "    end -= 1\n",
    "\n",
    "print(add)  "
   ]
  },
  {
   "cell_type": "code",
   "execution_count": 16,
   "metadata": {},
   "outputs": [
    {
     "output_type": "execute_result",
     "data": {
      "text/plain": [
       "10"
      ]
     },
     "metadata": {},
     "execution_count": 16
    }
   ],
   "source": [
    "4+3+2+1"
   ]
  },
  {
   "cell_type": "code",
   "execution_count": 20,
   "metadata": {},
   "outputs": [
    {
     "output_type": "stream",
     "name": "stdout",
     "text": [
      "2\n4\n6\n8\n10\nGoodbye!\n"
     ]
    }
   ],
   "source": [
    "# Slef Check\n",
    "\n",
    "for i in range(2, 11, 2):\n",
    "    print(i)\n",
    "print(\"Goodbye!\")"
   ]
  },
  {
   "cell_type": "code",
   "execution_count": 21,
   "metadata": {},
   "outputs": [
    {
     "output_type": "stream",
     "name": "stdout",
     "text": [
      "Hello!\n10\n8\n6\n4\n2\n"
     ]
    }
   ],
   "source": [
    "# Self Check\n",
    "\n",
    "print(\"Hello!\")\n",
    "\n",
    "for i in range(10, 1, -2):\n",
    "    print(i)\n",
    "\n"
   ]
  },
  {
   "cell_type": "code",
   "execution_count": 22,
   "metadata": {},
   "outputs": [
    {
     "output_type": "stream",
     "name": "stdout",
     "text": [
      "21\n"
     ]
    }
   ],
   "source": [
    "# Self Check\n",
    "\n",
    "end = 6\n",
    "\n",
    "total = 0\n",
    "\n",
    "for i in range((end+1)):\n",
    "    total += i\n",
    "print(total)\n"
   ]
  },
  {
   "cell_type": "code",
   "execution_count": 23,
   "metadata": {},
   "outputs": [
    {
     "output_type": "stream",
     "name": "stdout",
     "text": [
      "3*3 = 9\n"
     ]
    }
   ],
   "source": [
    "# Setting the square root\n",
    "\n",
    "x = 3\n",
    "\n",
    "ans = 0\n",
    "\n",
    "# For while loops you always initialize a counter\n",
    "\n",
    "itersLeft = x\n",
    "\n",
    "while (itersLeft != 0):\n",
    "\n",
    "    ans += x\n",
    "\n",
    "    itersLeft -= 1\n",
    "\n",
    "print(str(x) + \"*\" + str(x) + \" = \" + str(ans))\n",
    "\n"
   ]
  },
  {
   "cell_type": "code",
   "execution_count": 25,
   "metadata": {},
   "outputs": [
    {
     "output_type": "stream",
     "name": "stdout",
     "text": [
      "\n----> This is the Outer Loop,  0\nInner Loop:  0\nInner Loop:  1\nInner Loop:  2\nOut of inner loop, back to outer loop\n\n----> This is the Outer Loop,  1\nInner Loop:  0\nInner Loop:  1\nInner Loop:  2\nOut of inner loop, back to outer loop\n\n----> This is the Outer Loop,  2\nInner Loop:  0\nInner Loop:  1\nInner Loop:  2\nOut of inner loop, back to outer loop\n\n----> This is the Outer Loop,  3\nInner Loop:  0\nInner Loop:  1\nInner Loop:  2\nOut of inner loop, back to outer loop\n\n----> This is the Outer Loop,  4\nInner Loop:  0\nInner Loop:  1\nInner Loop:  2\nOut of inner loop, back to outer loop\n"
     ]
    }
   ],
   "source": [
    "# Tutorial on Nested for Loops\n",
    "\n",
    "for i in range(5):\n",
    "    # This is the code block for the outer loop\n",
    "    print(\"\\n----> This is the Outer Loop, \", i)\n",
    "\n",
    "    for j in range(3):\n",
    "        # This is the code block for the inner loop\n",
    "        print(\"Inner Loop: \", j)\n",
    "    \n",
    "    # Lets now step out of the inner loop\n",
    "    print(\"Out of inner loop, back to outer loop\")"
   ]
  },
  {
   "cell_type": "code",
   "execution_count": 26,
   "metadata": {},
   "outputs": [
    {
     "output_type": "stream",
     "name": "stdout",
     "text": [
      "0.0\n1.0\n2.0\n3.0\n4.0\n"
     ]
    }
   ],
   "source": [
    "# For Loops, while loops and range function: Behind the scenes\n",
    "divisor = 2\n",
    "for num in range(0, 10, 2):\n",
    "    print(num/divisor)"
   ]
  },
  {
   "cell_type": "code",
   "execution_count": 27,
   "metadata": {},
   "outputs": [
    {
     "output_type": "stream",
     "name": "stdout",
     "text": [
      "Cube root of 27 is 3\n"
     ]
    }
   ],
   "source": [
    "# Guess and Check for cube roots\n",
    "\n",
    "# Ener the number for which you want to find the cube root\n",
    "\n",
    "x = int(input(\"Enter an integer: \"))\n",
    "\n",
    "# Initializing the counter\n",
    "\n",
    "ans = 0\n",
    "\n",
    "# Processing Phase\n",
    "\n",
    "while (ans ** 3 < abs(x)):\n",
    "    ans += 1\n",
    "\n",
    "if (ans ** 3 != abs(x)):\n",
    "\n",
    "    print(str(x) + \" is not a perfect cube\")\n",
    "\n",
    "else:\n",
    "    if x < 0:\n",
    "        ans = - ans\n",
    "    print(\"Cube root of \" + str(x) + \" is \" + str(ans))\n",
    "\n",
    "\n",
    "\n",
    "\n",
    "\n",
    "\n",
    "\n"
   ]
  },
  {
   "cell_type": "code",
   "execution_count": 28,
   "metadata": {},
   "outputs": [
    {
     "output_type": "stream",
     "name": "stdout",
     "text": [
      "Cube root of  125  is  5\n"
     ]
    }
   ],
   "source": [
    "# A cleaner Guess and Check algorithm for finding the cube root\n",
    "\n",
    "# Initialize\n",
    "\n",
    "x = int(input(\"Please enter the number here: \"))\n",
    "\n",
    "# Processing Phase\n",
    "\n",
    "for guess in range((x + 1)):\n",
    "    if (guess ** 3 == x):\n",
    "        print(\"Cube root of \", x, \" is \", guess)"
   ]
  },
  {
   "cell_type": "code",
   "execution_count": 31,
   "metadata": {},
   "outputs": [
    {
     "output_type": "stream",
     "name": "stdout",
     "text": [
      "Cube root of 27 is 3\n"
     ]
    }
   ],
   "source": [
    "# A much more cleaner code for Guess-And-Check\n",
    "\n",
    "x = int(input(\"Please enter the a number here: \"))\n",
    "\n",
    "for guess in range((x+1)):\n",
    "    if (guess ** 3) >= abs(x):\n",
    "        break\n",
    "if ((guess ** 3) != abs(x)):\n",
    "    print(x, \"is not a perfect cube\")\n",
    "\n",
    "else:\n",
    "    if x < 0:\n",
    "\n",
    "        guess = - guess\n",
    "\n",
    "    print(\"Cube root of \" + str(x) + \" is \" + str(guess))"
   ]
  },
  {
   "cell_type": "code",
   "execution_count": 32,
   "metadata": {},
   "outputs": [
    {
     "output_type": "stream",
     "name": "stdout",
     "text": [
      "Iteration 0; count is: 12\nIteration 1; count is: 24\nIteration 2; count is: 36\nIteration 3; count is: 48\nIteration 4; count is: 60\n"
     ]
    }
   ],
   "source": [
    "# Self Check\n",
    "\n",
    "count = 0\n",
    "phrase = \"hello, world\"\n",
    "for iteration in range(5):\n",
    "    count += len(phrase)\n",
    "    print(\"Iteration \" + str(iteration) + \"; count is: \" + str(count))"
   ]
  },
  {
   "cell_type": "code",
   "execution_count": null,
   "metadata": {},
   "outputs": [],
   "source": []
  }
 ]
}